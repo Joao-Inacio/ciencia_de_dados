{
 "cells": [
  {
   "attachments": {},
   "cell_type": "markdown",
   "metadata": {},
   "source": [
    "# Exercícios"
   ]
  },
  {
   "attachments": {},
   "cell_type": "markdown",
   "metadata": {},
   "source": [
    "### Bibliotecas"
   ]
  },
  {
   "cell_type": "code",
   "execution_count": 1,
   "metadata": {},
   "outputs": [],
   "source": [
    "# Libs\n",
    "import numpy as np\n",
    "import pandas as pd"
   ]
  },
  {
   "attachments": {},
   "cell_type": "markdown",
   "metadata": {},
   "source": [
    "#### Exercício\n",
    "\n",
    "Gere uma matriz 4x4 de números igualmente espaçados entre 5 e 11 e calcule o total de memória utilizado para armazenar este array"
   ]
  },
  {
   "cell_type": "code",
   "execution_count": 2,
   "metadata": {},
   "outputs": [
    {
     "name": "stdout",
     "output_type": "stream",
     "text": [
      "Total de memória utilizado: 128 bytes\n",
      "Total de memória utilizado: 0.0001220703125 MB\n"
     ]
    }
   ],
   "source": [
    "matriz = np.linspace(5, 11, 16).reshape(4, 4)\n",
    "total_memoria = matriz.nbytes\n",
    "total_memoria_mb = total_memoria / 1024 / 1024\n",
    "print(f\"Total de memória utilizado: {total_memoria} bytes\")\n",
    "print(f\"Total de memória utilizado: {total_memoria_mb} MB\")"
   ]
  },
  {
   "attachments": {},
   "cell_type": "markdown",
   "metadata": {},
   "source": [
    "#### Exercício\n",
    "\n",
    "Assumindo que você tenha um array de apenas inteiros, crie uma função que converte-o para o tipo de dado que minimiza seu uso de memória"
   ]
  },
  {
   "cell_type": "code",
   "execution_count": 3,
   "metadata": {},
   "outputs": [
    {
     "name": "stdout",
     "output_type": "stream",
     "text": [
      "Resultado [1 2 3 4 5], Total de memória utilizado pelo resultado: 5 bytes\n"
     ]
    }
   ],
   "source": [
    "def minimiza_memoria(array: np.ndarray) -> np.ndarray:\n",
    "    \"\"\"\n",
    "    Minimiza o uso de memório de um determinado array\n",
    "    de inteiros\n",
    "    \n",
    "    :param array: array a ser minimizado\n",
    "    :return: array com o tipo ajustado\n",
    "    \"\"\"\n",
    "    return np.array(array, dtype=np.int8)\n",
    "\n",
    "\n",
    "arr = [1, 2, 3, 4, 5]\n",
    "result = minimiza_memoria(arr)\n",
    "\n",
    "print(f\"Resultado {result}, Total de memória utilizado pelo resultado: {result.nbytes} bytes\")"
   ]
  }
 ],
 "metadata": {
  "kernelspec": {
   "display_name": "venv",
   "language": "python",
   "name": "python3"
  },
  "language_info": {
   "codemirror_mode": {
    "name": "ipython",
    "version": 3
   },
   "file_extension": ".py",
   "mimetype": "text/x-python",
   "name": "python",
   "nbconvert_exporter": "python",
   "pygments_lexer": "ipython3",
   "version": "3.11.2"
  },
  "orig_nbformat": 4
 },
 "nbformat": 4,
 "nbformat_minor": 2
}
