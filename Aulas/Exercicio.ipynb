{
 "cells": [
  {
   "attachments": {},
   "cell_type": "markdown",
   "metadata": {},
   "source": [
    "# Exercícios"
   ]
  },
  {
   "attachments": {},
   "cell_type": "markdown",
   "metadata": {},
   "source": [
    "### Bibliotecas"
   ]
  },
  {
   "cell_type": "code",
   "execution_count": 9,
   "metadata": {},
   "outputs": [],
   "source": [
    "# Libs\n",
    "import numpy as np\n",
    "import pandas as pd"
   ]
  },
  {
   "attachments": {},
   "cell_type": "markdown",
   "metadata": {},
   "source": [
    "#### Exercício\n",
    "\n",
    "Gere uma matriz 4x4 de números igualmente espaçados entre 5 e 11 e calcule o total de memória utilizado para armazenar este array"
   ]
  },
  {
   "cell_type": "code",
   "execution_count": 10,
   "metadata": {},
   "outputs": [
    {
     "name": "stdout",
     "output_type": "stream",
     "text": [
      "Total de memória utilizado: 128 bytes\n",
      "Total de memória utilizado: 0.0001220703125 MB\n"
     ]
    }
   ],
   "source": [
    "matriz = np.linspace(5, 11, 16).reshape(4, 4)\n",
    "total_memoria = matriz.nbytes\n",
    "total_memoria_mb = total_memoria / 1024 / 1024\n",
    "print(f\"Total de memória utilizado: {total_memoria} bytes\")\n",
    "print(f\"Total de memória utilizado: {total_memoria_mb} MB\")"
   ]
  },
  {
   "attachments": {},
   "cell_type": "markdown",
   "metadata": {},
   "source": [
    "#### Exercício\n",
    "\n",
    "Assumindo que você tenha um array de apenas inteiros, crie uma função que converte-o para o tipo de dado que minimiza seu uso de memória"
   ]
  },
  {
   "cell_type": "code",
   "execution_count": 11,
   "metadata": {},
   "outputs": [
    {
     "name": "stdout",
     "output_type": "stream",
     "text": [
      "Resultado [1 2 3 4 5], Total de memória utilizado pelo resultado: 5 bytes\n"
     ]
    }
   ],
   "source": [
    "def minimiza_memoria(array: np.ndarray) -> np.ndarray:\n",
    "    \"\"\"\n",
    "    Minimiza o uso de memório de um determinado array\n",
    "    de inteiros\n",
    "    \n",
    "    :param array: array a ser minimizado\n",
    "    :return: array com o tipo ajustado\n",
    "    \"\"\"\n",
    "    return np.array(array, dtype=np.int8)\n",
    "\n",
    "\n",
    "arr = [1, 2, 3, 4, 5]\n",
    "result = minimiza_memoria(arr)\n",
    "\n",
    "print(f\"Resultado {result}, Total de memória utilizado pelo resultado: {result.nbytes} bytes\")"
   ]
  },
  {
   "attachments": {},
   "cell_type": "markdown",
   "metadata": {},
   "source": [
    "#### Exercício\n",
    "\n",
    "Dado um vetor unidimensional de valores converta-o para uma matriz bi-dimensional com base em um valor de passo e um valor de janela, de tal forma que cada linha dessa matriz contenha o número de colunas definido na janela e que nós percorremos, a cada iteração, o número de passo em termos de elemento.\n",
    "\n",
    "Por exemplo:  \n",
    "\n",
    "        Entrada >  \n",
    "        array = [0, 1, 2, 3, 4, 5, 6, 7, 8, 9, 10, 11, 12, 13, 14, 15, 16, 17, 18]  \n",
    "        Passo = 2  \n",
    "        Janela = 4  \n",
    "\n",
    "Geraria uma saída de:  \n",
    "\n",
    "    Saída > [[ 0  1  2  3]  \n",
    "             [ 2  3  4  5]  \n",
    "             [ 4  5  6  7]  \n",
    "             [ 6  7  8  9]  \n",
    "             [ 8  9 10 11]  \n",
    "             [10 11 12 13]  \n",
    "             [12 13 14 15]  \n",
    "             [14 15 16 17]]  \n",
    "\n",
    "Veja que cada linha contém 4 colunas = janelas. A primeira linha é formada por 0-3, ou seja, os 4 primeiros elementos do array, enquanto que a segunda linha é de 2-5, de forma que ela pula os 2 primeiros elementos (passo) e percorre mais 4 elementos (janela) do array"
   ]
  },
  {
   "cell_type": "code",
   "execution_count": 12,
   "metadata": {},
   "outputs": [],
   "source": [
    "def gera_matriz(array, passo=5, janela=5):\n",
    "    n_iter = ((array.size - janela) // passo) + 1\n",
    "    return np.array(\n",
    "        [\n",
    "            array[s:(s + janela)] \n",
    "            for s in np.arange(0, n_iter * passo, passo)\n",
    "        ]\n",
    "    )"
   ]
  },
  {
   "cell_type": "code",
   "execution_count": 13,
   "metadata": {},
   "outputs": [
    {
     "data": {
      "text/plain": [
       "array([[ 0,  1,  2,  3],\n",
       "       [ 2,  3,  4,  5],\n",
       "       [ 4,  5,  6,  7],\n",
       "       [ 6,  7,  8,  9],\n",
       "       [ 8,  9, 10, 11],\n",
       "       [10, 11, 12, 13],\n",
       "       [12, 13, 14, 15],\n",
       "       [14, 15, 16, 17]])"
      ]
     },
     "execution_count": 13,
     "metadata": {},
     "output_type": "execute_result"
    }
   ],
   "source": [
    "# Testando a função\n",
    "array = np.arange(19)\n",
    "passo = 2  \n",
    "janela = 4\n",
    "gera_matriz(array, passo, janela)"
   ]
  },
  {
   "attachments": {},
   "cell_type": "markdown",
   "metadata": {},
   "source": [
    "#### Exercício\n",
    "\n",
    "Crie uma função que permita criar uma matriz quadrada com os seguintes formatos:\n",
    "\n",
    "Q -> 1 1 1 1\n",
    "     1 0 0 1\n",
    "     1 0 0 1\n",
    "     1 1 1 1\n",
    "V -> 1 0 0 1\n",
    "     1 0 0 1\n",
    "     1 0 0 1\n",
    "     1 0 0 1\n",
    "H -> 1 1 1 1\n",
    "     0 0 0 0\n",
    "     0 0 0 0\n",
    "     1 1 1 1\n",
    "P -> 0 0 0 0\n",
    "     0 1 1 0\n",
    "     0 1 1 0\n",
    "     0 0 0 0"
   ]
  },
  {
   "cell_type": "code",
   "execution_count": 14,
   "metadata": {},
   "outputs": [],
   "source": [
    "def criar_matriz_quadrada(formato, tamanho):\n",
    "    matriz = []\n",
    "    for i in range(tamanho):\n",
    "        linha = []\n",
    "        for j in range(tamanho):\n",
    "            if formato == 'Q':\n",
    "                if i == 0 or i == tamanho-1 or j == 0 or j == tamanho-1:\n",
    "                    linha.append(1)\n",
    "                else:\n",
    "                    linha.append(0)\n",
    "            elif formato == 'V':\n",
    "                if j == 0 or j == tamanho-1:\n",
    "                    linha.append(1)\n",
    "                else:\n",
    "                    linha.append(0)\n",
    "            elif formato == 'H':\n",
    "                if i == 0 or i == tamanho-1:\n",
    "                    linha.append(1)\n",
    "                else:\n",
    "                    linha.append(0)\n",
    "            elif formato == 'P':\n",
    "                if i == tamanho//2-1 or i == tamanho//2:\n",
    "                    if j == tamanho//2-1 or j == tamanho//2:\n",
    "                        linha.append(1)\n",
    "                    else:\n",
    "                        linha.append(0)\n",
    "                else:\n",
    "                    linha.append(0)\n",
    "        matriz.append(linha)\n",
    "    return matriz\n"
   ]
  },
  {
   "cell_type": "code",
   "execution_count": 15,
   "metadata": {},
   "outputs": [
    {
     "data": {
      "text/plain": [
       "([[1, 1, 1, 1, 1],\n",
       "  [1, 0, 0, 0, 1],\n",
       "  [1, 0, 0, 0, 1],\n",
       "  [1, 0, 0, 0, 1],\n",
       "  [1, 1, 1, 1, 1]],\n",
       " [[1, 0, 0, 0, 1],\n",
       "  [1, 0, 0, 0, 1],\n",
       "  [1, 0, 0, 0, 1],\n",
       "  [1, 0, 0, 0, 1],\n",
       "  [1, 0, 0, 0, 1]],\n",
       " [[1, 1, 1, 1, 1],\n",
       "  [0, 0, 0, 0, 0],\n",
       "  [0, 0, 0, 0, 0],\n",
       "  [0, 0, 0, 0, 0],\n",
       "  [1, 1, 1, 1, 1]],\n",
       " [[0, 0, 0, 0, 0],\n",
       "  [0, 1, 1, 0, 0],\n",
       "  [0, 1, 1, 0, 0],\n",
       "  [0, 0, 0, 0, 0],\n",
       "  [0, 0, 0, 0, 0]])"
      ]
     },
     "execution_count": 15,
     "metadata": {},
     "output_type": "execute_result"
    }
   ],
   "source": [
    "matriz_q = criar_matriz_quadrada('Q', 5)\n",
    "matriz_v = criar_matriz_quadrada('V', 5)\n",
    "matriz_h = criar_matriz_quadrada('H', 5)\n",
    "matriz_p = criar_matriz_quadrada('P', 5)\n",
    "matriz_q, matriz_v,matriz_h, matriz_p"
   ]
  }
 ],
 "metadata": {
  "kernelspec": {
   "display_name": "venv",
   "language": "python",
   "name": "python3"
  },
  "language_info": {
   "codemirror_mode": {
    "name": "ipython",
    "version": 3
   },
   "file_extension": ".py",
   "mimetype": "text/x-python",
   "name": "python",
   "nbconvert_exporter": "python",
   "pygments_lexer": "ipython3",
   "version": "3.11.2"
  },
  "orig_nbformat": 4
 },
 "nbformat": 4,
 "nbformat_minor": 2
}
