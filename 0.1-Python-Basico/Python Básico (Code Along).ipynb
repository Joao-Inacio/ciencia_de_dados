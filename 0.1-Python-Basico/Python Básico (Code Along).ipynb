{
 "cells": [
  {
   "cell_type": "markdown",
   "metadata": {
    "id": "sPwRp_0xEsSH"
   },
   "source": [
    "# Python Básico"
   ]
  },
  {
   "cell_type": "markdown",
   "metadata": {
    "id": "KWQKRM3-EsSJ"
   },
   "source": [
    "**OBJETIVOS**: Revisar o básico da linguagem python para o curso"
   ]
  },
  {
   "cell_type": "markdown",
   "metadata": {
    "id": "n1TQWeDjEsSK"
   },
   "source": [
    "---"
   ]
  },
  {
   "cell_type": "markdown",
   "metadata": {
    "id": "GH6UMzioEsSK"
   },
   "source": [
    "## Introdução "
   ]
  },
  {
   "cell_type": "markdown",
   "metadata": {
    "id": "4Uqt7nykEsSL"
   },
   "source": [
    "### Variáveis"
   ]
  },
  {
   "cell_type": "markdown",
   "metadata": {
    "id": "tjftd8e3EsSL"
   },
   "source": [
    "Em qualquer linguagem de programação é crucial saber trabalhar com variáveis. Elas são estruturas cujo objetivo é armazenar informações temporárias do programa na memória RAM.\n",
    "\n",
    "Em python, a sintaxe para se criar uma variável é simples:"
   ]
  },
  {
   "cell_type": "code",
   "execution_count": 1,
   "metadata": {},
   "outputs": [],
   "source": [
    "a = 1"
   ]
  },
  {
   "cell_type": "markdown",
   "metadata": {
    "id": "kC5s5HRcEsSM"
   },
   "source": [
    "Ao dizer a = 1, estamos falando: \"Por favor, armazene o valor de 1 a variável cujo nome será 'a'\". Desta forma o sinal '=' em Python é o sinal de atribuição."
   ]
  },
  {
   "cell_type": "markdown",
   "metadata": {
    "id": "xUFNv492EsSN"
   },
   "source": [
    "Há, é claro, regras para se criar um nome de uma variável, sendo elas:\n",
    "1. Não pode começar com um número\n",
    "2. Não pode conter caracter especial (\",\", \"´\", \"/\", ...), mas pode ter acentos (á, é, í, ...) e \"_\"\n",
    "3. Não pode ter espaços no nome"
   ]
  },
  {
   "cell_type": "code",
   "execution_count": 2,
   "metadata": {},
   "outputs": [
    {
     "ename": "SyntaxError",
     "evalue": "invalid decimal literal (3102068389.py, line 1)",
     "output_type": "error",
     "traceback": [
      "\u001b[1;36m  Cell \u001b[1;32mIn[2], line 1\u001b[1;36m\u001b[0m\n\u001b[1;33m    12abc = 1\u001b[0m\n\u001b[1;37m     ^\u001b[0m\n\u001b[1;31mSyntaxError\u001b[0m\u001b[1;31m:\u001b[0m invalid decimal literal\n"
     ]
    }
   ],
   "source": [
    "12abc = 1"
   ]
  },
  {
   "cell_type": "markdown",
   "metadata": {
    "id": "gBoQWLYjEsSO"
   },
   "source": [
    "Você ainda pode criar múltiplas variáveis numa mesma linha"
   ]
  },
  {
   "cell_type": "code",
   "execution_count": 3,
   "metadata": {},
   "outputs": [],
   "source": [
    "a, b, c = 1, 2, 3"
   ]
  },
  {
   "cell_type": "markdown",
   "metadata": {
    "id": "Jiqf4BevEsSO"
   },
   "source": [
    "Nós podemos utilizar o console do jupyter para acompanhar os valores de variáveis e nós podemos substituir os valores das mesmas"
   ]
  },
  {
   "cell_type": "code",
   "execution_count": 4,
   "metadata": {},
   "outputs": [
    {
     "data": {
      "text/plain": [
       "2"
      ]
     },
     "execution_count": 4,
     "metadata": {},
     "output_type": "execute_result"
    }
   ],
   "source": [
    "a = 2\n",
    "a"
   ]
  },
  {
   "cell_type": "code",
   "execution_count": 5,
   "metadata": {},
   "outputs": [
    {
     "data": {
      "text/plain": [
       "1"
      ]
     },
     "execution_count": 5,
     "metadata": {},
     "output_type": "execute_result"
    }
   ],
   "source": [
    "a = 1\n",
    "a"
   ]
  },
  {
   "cell_type": "markdown",
   "metadata": {
    "id": "hGWjvQU7EsSP"
   },
   "source": [
    "As variáveis em Python possuem tipos. E nós veremos ao longo desse notebook os principais tipos utilizados. Mas de longe o tipo mais comum de variáveis que trabalhamos são as numéricas: Inteiras, Reais e Complexas"
   ]
  },
  {
   "cell_type": "code",
   "execution_count": 6,
   "metadata": {},
   "outputs": [
    {
     "data": {
      "text/plain": [
       "int"
      ]
     },
     "execution_count": 6,
     "metadata": {},
     "output_type": "execute_result"
    }
   ],
   "source": [
    "type(a)"
   ]
  },
  {
   "cell_type": "markdown",
   "metadata": {
    "id": "S0ZvDMKGEsSP"
   },
   "source": [
    "**NOTA**: Em Python nós temos as \"funções padrões da linguagem\" que são expressões como o \"type\" acima que podem ser utilizados livremente. Note que a cor do texto muda e devemos ter cuidado para não dar nomes de variáveis que sejam nomes desses \"nomes reservados\""
   ]
  },
  {
   "cell_type": "markdown",
   "metadata": {
    "id": "7ZSSFpfAEsSP"
   },
   "source": [
    "---"
   ]
  },
  {
   "cell_type": "markdown",
   "metadata": {
    "id": "GXf67CdtEsSQ"
   },
   "source": [
    "### Inteiros "
   ]
  },
  {
   "cell_type": "markdown",
   "metadata": {
    "id": "9I772n3MEsSQ"
   },
   "source": [
    "Inteiros são os tipos mais comuns de variáveis podendo ir de $-\\infty$ a $+\\infty$, mas que não são representados com casas decimais:\n",
    "\n",
    "-100, -10, -3, -2, -1, 0, 1, 2, 3, ..."
   ]
  },
  {
   "cell_type": "code",
   "execution_count": 7,
   "metadata": {},
   "outputs": [],
   "source": [
    "a = 1\n",
    "b = 2\n",
    "c = -7\n",
    "d = -1000000"
   ]
  },
  {
   "cell_type": "markdown",
   "metadata": {
    "id": "beqYa_VREsSQ"
   },
   "source": [
    "---"
   ]
  },
  {
   "cell_type": "markdown",
   "metadata": {
    "id": "OGvkYKhdEsSQ"
   },
   "source": [
    "### Operações "
   ]
  },
  {
   "cell_type": "markdown",
   "metadata": {
    "id": "u1K_j31FEsSQ"
   },
   "source": [
    "Números inteiros (e variáveis do python em geral) aceitam operações matemáticas "
   ]
  },
  {
   "cell_type": "markdown",
   "metadata": {
    "id": "6gm7LCYyEsSR"
   },
   "source": [
    "**Soma**"
   ]
  },
  {
   "cell_type": "code",
   "execution_count": 8,
   "metadata": {},
   "outputs": [
    {
     "data": {
      "text/plain": [
       "2"
      ]
     },
     "execution_count": 8,
     "metadata": {},
     "output_type": "execute_result"
    }
   ],
   "source": [
    "1 + 1"
   ]
  },
  {
   "cell_type": "markdown",
   "metadata": {
    "id": "ibAH8guLEsSR"
   },
   "source": [
    "**Subtração**"
   ]
  },
  {
   "cell_type": "code",
   "execution_count": 9,
   "metadata": {},
   "outputs": [
    {
     "data": {
      "text/plain": [
       "-1"
      ]
     },
     "execution_count": 9,
     "metadata": {},
     "output_type": "execute_result"
    }
   ],
   "source": [
    "a - b"
   ]
  },
  {
   "cell_type": "markdown",
   "metadata": {
    "id": "giSdr0RdEsSR"
   },
   "source": [
    "**Multiplicação**"
   ]
  },
  {
   "cell_type": "code",
   "execution_count": 10,
   "metadata": {},
   "outputs": [
    {
     "data": {
      "text/plain": [
       "-7"
      ]
     },
     "execution_count": 10,
     "metadata": {},
     "output_type": "execute_result"
    }
   ],
   "source": [
    "c * a"
   ]
  },
  {
   "cell_type": "markdown",
   "metadata": {
    "id": "aRbSn73OEsSR"
   },
   "source": [
    "**Divisão**"
   ]
  },
  {
   "cell_type": "code",
   "execution_count": 11,
   "metadata": {},
   "outputs": [
    {
     "data": {
      "text/plain": [
       "2.0"
      ]
     },
     "execution_count": 11,
     "metadata": {},
     "output_type": "execute_result"
    }
   ],
   "source": [
    "6 / 3"
   ]
  },
  {
   "cell_type": "markdown",
   "metadata": {
    "id": "KSwTfWfUEsSR"
   },
   "source": [
    "**Divisão inteira**"
   ]
  },
  {
   "cell_type": "markdown",
   "metadata": {
    "id": "MxFfUtlLEsSS"
   },
   "source": [
    "<img src=\"https://gracianotorrao.files.wordpress.com/2014/10/divisaoi.png\" />"
   ]
  },
  {
   "cell_type": "code",
   "execution_count": 12,
   "metadata": {},
   "outputs": [
    {
     "data": {
      "text/plain": [
       "2"
      ]
     },
     "execution_count": 12,
     "metadata": {},
     "output_type": "execute_result"
    }
   ],
   "source": [
    "17 // 8"
   ]
  },
  {
   "cell_type": "code",
   "execution_count": 13,
   "metadata": {},
   "outputs": [
    {
     "data": {
      "text/plain": [
       "1"
      ]
     },
     "execution_count": 13,
     "metadata": {},
     "output_type": "execute_result"
    }
   ],
   "source": [
    "17 % 2"
   ]
  },
  {
   "cell_type": "markdown",
   "metadata": {
    "id": "9ZTeXl9OEsSS"
   },
   "source": [
    "**Exponencial**"
   ]
  },
  {
   "cell_type": "code",
   "execution_count": 14,
   "metadata": {},
   "outputs": [
    {
     "data": {
      "text/plain": [
       "8"
      ]
     },
     "execution_count": 14,
     "metadata": {},
     "output_type": "execute_result"
    }
   ],
   "source": [
    "2 ** 3"
   ]
  },
  {
   "cell_type": "markdown",
   "metadata": {
    "id": "N0JUJq_LEsSS"
   },
   "source": [
    "Operações no python seguem a mesma ordem da matemática, e nós podemos utilizar parenteses para determinar a ordem das operações"
   ]
  },
  {
   "cell_type": "code",
   "execution_count": 15,
   "metadata": {},
   "outputs": [
    {
     "data": {
      "text/plain": [
       "7"
      ]
     },
     "execution_count": 15,
     "metadata": {},
     "output_type": "execute_result"
    }
   ],
   "source": [
    "1 + 2 * 3"
   ]
  },
  {
   "cell_type": "code",
   "execution_count": 16,
   "metadata": {},
   "outputs": [
    {
     "data": {
      "text/plain": [
       "-4"
      ]
     },
     "execution_count": 16,
     "metadata": {},
     "output_type": "execute_result"
    }
   ],
   "source": [
    "(1 - 3) * 2"
   ]
  },
  {
   "cell_type": "markdown",
   "metadata": {
    "id": "HEc0YYruEsSS"
   },
   "source": [
    "---"
   ]
  },
  {
   "cell_type": "markdown",
   "metadata": {
    "id": "-eiihRKqEsSS"
   },
   "source": [
    "### Comentários "
   ]
  },
  {
   "cell_type": "markdown",
   "metadata": {
    "id": "q8XMbdxwEsSS"
   },
   "source": [
    "Uma parte primordial de todo código é a estrutura de comentários que nos permite explicar o que cada bloco de código está fazendo com linguagem humana, para que terceiros possam entender mais facilmente o que estamos escrevendo.\n",
    "\n",
    "Python apresentar algumas sintaxes para escreve comentários"
   ]
  },
  {
   "cell_type": "markdown",
   "metadata": {
    "id": "QJvs8s5zEsSS"
   },
   "source": [
    "O #"
   ]
  },
  {
   "cell_type": "code",
   "execution_count": 17,
   "metadata": {},
   "outputs": [],
   "source": [
    "# Comentário"
   ]
  },
  {
   "cell_type": "markdown",
   "metadata": {
    "id": "ql_GsmNLEsST"
   },
   "source": [
    "O \"\"\" ou '''"
   ]
  },
  {
   "cell_type": "code",
   "execution_count": 18,
   "metadata": {},
   "outputs": [
    {
     "data": {
      "text/plain": [
       "' \\nTambém \\né um \\ncomentário \\n'"
      ]
     },
     "execution_count": 18,
     "metadata": {},
     "output_type": "execute_result"
    }
   ],
   "source": [
    "\"\"\" \n",
    "Também \n",
    "é um \n",
    "comentário \n",
    "\"\"\""
   ]
  },
  {
   "cell_type": "markdown",
   "metadata": {
    "id": "Du74fYaZEsST"
   },
   "source": [
    "---"
   ]
  },
  {
   "cell_type": "markdown",
   "metadata": {
    "id": "rE9MHGR3EsST"
   },
   "source": [
    "### Print e Input"
   ]
  },
  {
   "cell_type": "markdown",
   "metadata": {
    "id": "W-l90YDUEsST"
   },
   "source": [
    "A função print é responsável por imprimir saídas no console de Python. Apesar de não ser muito utilizada dentro do contexto do jupyter essa função é muito usada em códigos tradicionais e na maioria dos ambientes de programação de produção.\n",
    "\n",
    "Para utiliza-la é simples basta chamar "
   ]
  },
  {
   "cell_type": "code",
   "execution_count": 19,
   "metadata": {},
   "outputs": [
    {
     "name": "stdout",
     "output_type": "stream",
     "text": [
      "Hello world\n"
     ]
    }
   ],
   "source": [
    "print(\"Hello world\")"
   ]
  },
  {
   "cell_type": "markdown",
   "metadata": {
    "id": "cYZFkkqPEsST"
   },
   "source": [
    "E o conteúdo entre \"\" será colocado no console. Além disso você pode imprimir dados específicos ou dividir suas impressões em vária pedaços utilizando a sintaxe de vírgula"
   ]
  },
  {
   "cell_type": "code",
   "execution_count": 20,
   "metadata": {},
   "outputs": [
    {
     "name": "stdout",
     "output_type": "stream",
     "text": [
      "3\n"
     ]
    }
   ],
   "source": [
    "a = 1\n",
    "b = 2\n",
    "print(a + b)"
   ]
  },
  {
   "cell_type": "markdown",
   "metadata": {
    "id": "i185b5SXEsST"
   },
   "source": [
    "Por padrão a função print gerará separadores utilizando o \" \", mas você pode especificar como separar as palavras usando o argumento sep "
   ]
  },
  {
   "cell_type": "code",
   "execution_count": 21,
   "metadata": {},
   "outputs": [
    {
     "name": "stdout",
     "output_type": "stream",
     "text": [
      "Olá%Mundo\n"
     ]
    }
   ],
   "source": [
    "print(\"Olá\", \"Mundo\", sep=\"%\")"
   ]
  },
  {
   "cell_type": "markdown",
   "metadata": {
    "id": "88gTzkMoEsST"
   },
   "source": [
    "Os textos impressos ainda aceitam caracteres especiais que utilizam a sintaxe \"\\alguma letra\""
   ]
  },
  {
   "cell_type": "code",
   "execution_count": 22,
   "metadata": {},
   "outputs": [
    {
     "name": "stdout",
     "output_type": "stream",
     "text": [
      "Olá\n",
      "Mundo\n"
     ]
    }
   ],
   "source": [
    "print(\"Olá\\nMundo\")"
   ]
  },
  {
   "cell_type": "markdown",
   "metadata": {
    "id": "687TUDTREsSU"
   },
   "source": [
    "Nós também podemos incorporar os valores de variáveis dentro do texto a ser imprimido utilizado a sintaxe do %"
   ]
  },
  {
   "cell_type": "code",
   "execution_count": 23,
   "metadata": {},
   "outputs": [
    {
     "name": "stdout",
     "output_type": "stream",
     "text": [
      "O valor de a 1/Sim\n"
     ]
    }
   ],
   "source": [
    "print('O valor de a %d' %a, 'Sim', sep=\"/\")"
   ]
  },
  {
   "cell_type": "markdown",
   "metadata": {
    "id": "PSH7VSAGEsSU"
   },
   "source": [
    "Além de exportar informação nós também podemos receber informação por meio da função input"
   ]
  },
  {
   "cell_type": "code",
   "execution_count": 24,
   "metadata": {},
   "outputs": [
    {
     "data": {
      "text/plain": [
       "'23'"
      ]
     },
     "execution_count": 24,
     "metadata": {},
     "output_type": "execute_result"
    }
   ],
   "source": [
    "input(\"Digite um número: \")"
   ]
  },
  {
   "cell_type": "markdown",
   "metadata": {
    "id": "QPFhENrREsSU"
   },
   "source": [
    "A função input retornará o valor digitado que pode ser armazenado numa variável"
   ]
  },
  {
   "cell_type": "code",
   "execution_count": 25,
   "metadata": {},
   "outputs": [
    {
     "data": {
      "text/plain": [
       "'3'"
      ]
     },
     "execution_count": 25,
     "metadata": {},
     "output_type": "execute_result"
    }
   ],
   "source": [
    "num = input(\"Número: \")\n",
    "num"
   ]
  },
  {
   "cell_type": "markdown",
   "metadata": {
    "id": "4mGpeCKxEsSU"
   },
   "source": [
    "Entretanto note que o console não fornece um valor inteiro como estamos acostumados, mas no lugar nos devolve um valor '1'. Para obter o nosso valor de interesse precisamos fazer uma conversão de tipo"
   ]
  },
  {
   "cell_type": "code",
   "execution_count": 26,
   "metadata": {},
   "outputs": [
    {
     "data": {
      "text/plain": [
       "4"
      ]
     },
     "execution_count": 26,
     "metadata": {},
     "output_type": "execute_result"
    }
   ],
   "source": [
    "num = int(input(\"Digite um número: \"))\n",
    "num"
   ]
  },
  {
   "cell_type": "markdown",
   "metadata": {
    "id": "MMaa2FjGEsSU"
   },
   "source": [
    "---"
   ]
  },
  {
   "cell_type": "markdown",
   "metadata": {
    "id": "kHUSs9-gEsSU"
   },
   "source": [
    "**Exercício 1**\n",
    "\n",
    "Organize os numeros 2,3,4,5,10,12 para obter a saída 18\n",
    "em uma única operação:\n",
    "\n",
    "    x = 12*3\n",
    "    x = x + 4\n",
    "    x = x//10\n",
    "    x = x*5\n",
    "    x = x - 2\n",
    "    print(x)\n"
   ]
  },
  {
   "cell_type": "code",
   "execution_count": 27,
   "metadata": {
    "id": "JoSSIaoUEsSV",
    "solution2": "hidden",
    "solution2_first": true
   },
   "outputs": [
    {
     "data": {
      "text/plain": [
       "18"
      ]
     },
     "execution_count": 27,
     "metadata": {},
     "output_type": "execute_result"
    }
   ],
   "source": [
    "x = (12 * 3 + 4) // 10 * 5 - 2\n",
    "x"
   ]
  },
  {
   "cell_type": "markdown",
   "metadata": {
    "id": "av6-ODamEsSV"
   },
   "source": [
    "**Exercício 2**\n",
    "\n",
    "Escreva um Programa que imprime dois numeros de sua escolha\n",
    "e que depois imprime a soma, a subtração, a multiplicação,\n",
    "a divisão normal e a divisão inteira,\n",
    "e o resto da divisão do maior pelo menor\n",
    "(coloque na mensagem a palavra resto ao invez do símbolo %)\n",
    "\n",
    "EXEMPLO DE SAÍDA:\n",
    "\n",
    "x = 15; y = 10\n",
    "\n",
    "    15 + 10 = 25\n",
    "    15 - 10 = 5\n",
    "    15 x 10 = 150\n",
    "    15 / 10 = 1.5\n",
    "    15 // 10 = 1\n",
    "    15 resto 10 = 5\n"
   ]
  },
  {
   "cell_type": "code",
   "execution_count": 28,
   "metadata": {
    "id": "PCk7m6AUEsSV",
    "solution2": "hidden",
    "solution2_first": true
   },
   "outputs": [
    {
     "name": "stdout",
     "output_type": "stream",
     "text": [
      "15 + 10 = 25\n",
      " 15 - 10 = 5\n",
      " 15 x 10 = 150\n",
      " 15 / 10 = 1.5\n",
      " 15 // 10 = 1\n",
      " 15 resto 10 = 5\n"
     ]
    }
   ],
   "source": [
    "x = int(input(\"Valor de X: \"))\n",
    "y = int(input(\"Valor de Y: \"))\n",
    "print(f' {x} + {y} = {x+y}\\n {x} - {y} = {x-y}\\n {x} x {y} = {x*y}\\n {x} / {y} = {x/y}\\n {x} // {y} = {x//y}\\n {x} resto {y} = {x%y}')"
   ]
  },
  {
   "cell_type": "markdown",
   "metadata": {
    "id": "UZfkST2hEsSV"
   },
   "source": [
    "---"
   ]
  },
  {
   "cell_type": "markdown",
   "metadata": {
    "id": "Mu6uXNvpEsSV"
   },
   "source": [
    "## Controladores de Fluxo "
   ]
  },
  {
   "cell_type": "markdown",
   "metadata": {
    "id": "EIjHj4erEsSV"
   },
   "source": [
    "### Estruturas de Decisão "
   ]
  },
  {
   "cell_type": "markdown",
   "metadata": {
    "id": "nP-YvDmTEsSV"
   },
   "source": [
    "#### Variáveis Booleanas"
   ]
  },
  {
   "cell_type": "markdown",
   "metadata": {
    "id": "lJ8WcHKTEsSW"
   },
   "source": [
    "Além das variáveis de tipo inteiro nós temos outros tipos como as variáveis booleanas que são representações de valores binários de Verdadeiro e Falso (True e False respectivamente)"
   ]
  },
  {
   "cell_type": "code",
   "execution_count": 29,
   "metadata": {},
   "outputs": [],
   "source": [
    "verdadeiro = True\n",
    "falso = False"
   ]
  },
  {
   "cell_type": "markdown",
   "metadata": {
    "id": "FYghuLUYEsSW"
   },
   "source": [
    "As variáveis booleanas são resultados de comparações entre diferentes valores que avaliam uma determinada expressão"
   ]
  },
  {
   "cell_type": "code",
   "execution_count": 30,
   "metadata": {},
   "outputs": [
    {
     "data": {
      "text/plain": [
       "True"
      ]
     },
     "execution_count": 30,
     "metadata": {},
     "output_type": "execute_result"
    }
   ],
   "source": [
    "a = 2\n",
    "a > 1"
   ]
  },
  {
   "cell_type": "markdown",
   "metadata": {
    "id": "EFomP8mhEsSW"
   },
   "source": [
    "Veja que o resultado da expressão a > 1 é um valor booleano nos dizendo que o valor de a, 2, é de fato maior do que 1. De forma análoga temos todas as expressões comparativas conhecidas"
   ]
  },
  {
   "cell_type": "code",
   "execution_count": 31,
   "metadata": {},
   "outputs": [
    {
     "name": "stdout",
     "output_type": "stream",
     "text": [
      "A > 1 True\n",
      "A >= 1 True\n",
      "A < 1 False\n",
      "A <= 1 False\n",
      "A == 1 False\n",
      "A != 1 True\n",
      "1 < A < 2 True\n"
     ]
    }
   ],
   "source": [
    "print(f'A > 1 {a>1}')\n",
    "print(f'A >= 1 {a>=1}')\n",
    "print(f'A < 1 {a<1}')\n",
    "print(f'A <= 1 {a<=1}')\n",
    "print(f'A == 1 {a==1}')\n",
    "print(f'A != 1 {a!=1}')\n",
    "print(f'1 < A < 2 {a>1}')"
   ]
  },
  {
   "cell_type": "markdown",
   "metadata": {
    "id": "dEyrGg2uEsSW"
   },
   "source": [
    "Podemos também concatenar expressões utilizando os operadores lógico and, or e not"
   ]
  },
  {
   "cell_type": "markdown",
   "metadata": {
    "id": "OJrD61b4EsSW"
   },
   "source": [
    "AND: Só é verdadeiro quando as duas expressões são verdadeiras"
   ]
  },
  {
   "cell_type": "code",
   "execution_count": 32,
   "metadata": {},
   "outputs": [
    {
     "data": {
      "text/plain": [
       "True"
      ]
     },
     "execution_count": 32,
     "metadata": {},
     "output_type": "execute_result"
    }
   ],
   "source": [
    "a = 1\n",
    "b = 2\n",
    "\n",
    "a == 1 and b > 1"
   ]
  },
  {
   "cell_type": "markdown",
   "metadata": {
    "id": "zqgEVUMgEsSW"
   },
   "source": [
    "OR: É verdadeiro quando uma das expressões é verdadeira"
   ]
  },
  {
   "cell_type": "code",
   "execution_count": 33,
   "metadata": {},
   "outputs": [
    {
     "data": {
      "text/plain": [
       "True"
      ]
     },
     "execution_count": 33,
     "metadata": {},
     "output_type": "execute_result"
    }
   ],
   "source": [
    "a = 1\n",
    "b = 2\n",
    "\n",
    "a == 1 or b > 1"
   ]
  },
  {
   "cell_type": "markdown",
   "metadata": {
    "id": "s-LIah4CEsSW"
   },
   "source": [
    "NOT: Inverte o resultado de uma comparação"
   ]
  },
  {
   "cell_type": "code",
   "execution_count": 34,
   "metadata": {},
   "outputs": [
    {
     "data": {
      "text/plain": [
       "False"
      ]
     },
     "execution_count": 34,
     "metadata": {},
     "output_type": "execute_result"
    }
   ],
   "source": [
    "not a == 1"
   ]
  },
  {
   "cell_type": "markdown",
   "metadata": {
    "id": "xs_Ip0FQEsSX"
   },
   "source": [
    "#### If / Elif / Else "
   ]
  },
  {
   "cell_type": "markdown",
   "metadata": {
    "id": "D_vLF-51EsSX"
   },
   "source": [
    "Booleanos sozinhos não adicionam muito aos nosso programas, mas estruturas de decisão sim, uma vez que as mesmas podem alterar o andamento do código e executar determinados blocos de acordo com as condições especificadas"
   ]
  },
  {
   "cell_type": "code",
   "execution_count": 1,
   "metadata": {},
   "outputs": [
    {
     "name": "stdout",
     "output_type": "stream",
     "text": [
      "Você pode beber\n"
     ]
    }
   ],
   "source": [
    "idade = int(input(\"Qual a sua idade? \"))\n",
    "if idade >= 60:\n",
    "    print(\"Você tem direito a passagem de graça\")\n",
    "elif idade >= 18:\n",
    "    print(\"Você pode beber\")\n",
    "else:\n",
    "    print(\"Você não pode beber\")"
   ]
  },
  {
   "cell_type": "markdown",
   "metadata": {
    "id": "Rw2UulO8EsSX"
   },
   "source": [
    "---"
   ]
  },
  {
   "cell_type": "markdown",
   "metadata": {
    "id": "c4hELKLWEsSX"
   },
   "source": [
    "**Exercício 3**\n",
    "\n",
    "Faça um Programa para uma loja de tintas.\n",
    "\n",
    "O programa deverá pedir o tamanho em metros quadrados da área a ser pintada.\n",
    "Considere que a cobertura da tinta é de 1 litro para cada 6 metros quadrados\n",
    "e que a tinta é vendida em latas de 18 litros, que custam R\\\\$ 80,00 ou\n",
    "em galões de 4 litros, que custam R\\\\$ 25,00.\n",
    "\n",
    "Informe ao usuário as quantidades de tinta a serem compradas e os respectivos\n",
    "preços em 3 situações:\n",
    "    comprar apenas latas de 18 litros;\n",
    "    comprar apenas galões de 4 litros;\n",
    "    misturar latas e galões, de forma que o preço seja o menor."
   ]
  },
  {
   "cell_type": "code",
   "execution_count": 2,
   "metadata": {
    "id": "IbScKN9dEsSX",
    "solution2": "hidden",
    "solution2_first": true
   },
   "outputs": [
    {
     "name": "stdout",
     "output_type": "stream",
     "text": [
      "Com uma lata de 18 Litros você pode pintar 108\n"
     ]
    }
   ],
   "source": [
    "tamanho = int(input(\"Tamanho em Metros: \"))\n",
    "tinta = str(input(\"\"\"\n",
    "                Tipos de Tintas:\n",
    "                A) Lata de 18 Litros R$ 80,00\n",
    "                B) Galões de 4 Litros R$ 25,00\n",
    "\"\"\")).upper()\n",
    "if tinta == \"A\":\n",
    "    print(f'Com uma lata de 18 Litros você pode pintar {18*6}')\n",
    "elif tinta == \"B\":\n",
    "    print(f'Com um galões de 4 Litros você pode pintar {4*6}')\n",
    "else:\n",
    "    print(f'se mistura uma lata e um galões de 18 + 4 você pode pintar {(18+4)*6}')"
   ]
  },
  {
   "cell_type": "markdown",
   "metadata": {
    "id": "Q21r8Mc_EsSY"
   },
   "source": [
    "---"
   ]
  },
  {
   "cell_type": "markdown",
   "metadata": {
    "id": "52L348CYEsSY"
   },
   "source": [
    "### Estruturas de Repetição "
   ]
  },
  {
   "cell_type": "markdown",
   "metadata": {
    "id": "LxjYJXvrEsSY"
   },
   "source": [
    "Estruturas de repetição são cruciais em qualquer linguagem de programação porque permitem que determinados blocos de código sejam executados múltiplas vezes. É justamente esse tipo de estrutura que evita que tenhamos que escrever o mesmo código repetidas vezes para se atingir um determinado resultado"
   ]
  },
  {
   "cell_type": "markdown",
   "metadata": {
    "id": "R1aTgnkqEsSY"
   },
   "source": [
    "#### While "
   ]
  },
  {
   "cell_type": "markdown",
   "metadata": {
    "id": "3yz1xcsBEsSY"
   },
   "source": [
    "O bloco while é utilizado para executar um determinado bloco de código ENQUANTO (while em português) uma condição seja verdadeira"
   ]
  },
  {
   "cell_type": "code",
   "execution_count": null,
   "metadata": {},
   "outputs": [],
   "source": []
  },
  {
   "cell_type": "markdown",
   "metadata": {
    "id": "G8Nz910lEsSY"
   },
   "source": [
    "É preciso ser muito cuidadoso, entretanto com laços infinitos, uma vez que seu programa travará caso você faça isso, entretanto é relativamente comum seu uso por exemplo em jogos ou em aps iterativos de uso contínuo"
   ]
  },
  {
   "cell_type": "code",
   "execution_count": null,
   "metadata": {},
   "outputs": [],
   "source": []
  },
  {
   "cell_type": "markdown",
   "metadata": {
    "id": "RSEyg3JZEsSY"
   },
   "source": [
    "---"
   ]
  },
  {
   "cell_type": "markdown",
   "metadata": {
    "id": "Wb3Ik4XAEsSY"
   },
   "source": [
    "**Exercício 4**\n",
    "\n",
    "Dizemos que um inteiro positivo n é perfeito se for igual à soma de\n",
    "seus divisores positivos diferentes de n.\n",
    "\n",
    "Exemplo: 6 é perfeito, pois 1+2+3 = 6.\n",
    "       \n",
    "Dado um inteiro positivo n, verificar se n é perfeito."
   ]
  },
  {
   "cell_type": "code",
   "execution_count": null,
   "metadata": {
    "id": "zbBwsh6fEsSZ",
    "solution2": "hidden",
    "solution2_first": true
   },
   "outputs": [],
   "source": []
  },
  {
   "cell_type": "code",
   "execution_count": null,
   "metadata": {
    "ExecuteTime": {
     "end_time": "2021-09-06T14:13:22.730775Z",
     "start_time": "2021-09-06T14:13:20.576161Z"
    },
    "cellView": "form",
    "id": "WyhL8h8TEsSY",
    "solution2": "hidden"
   },
   "outputs": [],
   "source": [
    "#@title Resposta\n",
    "n = int(input(\"Digite o valor de n: \"))\n",
    "\n",
    "cont, soma = 2, 1\n",
    "while cont < n:\n",
    "    if n % cont == 0:\n",
    "        soma += cont\n",
    "    cont += 1\n",
    "\n",
    "if soma == n:\n",
    "    print (\"O número\", n, \"é perfeito\")\n",
    "else:\n",
    "    print (\"O número\", n, \"não é perfeito\")"
   ]
  },
  {
   "cell_type": "markdown",
   "metadata": {
    "id": "wnNmqU-oEsSZ"
   },
   "source": [
    "---"
   ]
  },
  {
   "cell_type": "markdown",
   "metadata": {
    "id": "ZwghVaW6EsSZ"
   },
   "source": [
    "#### For "
   ]
  },
  {
   "cell_type": "markdown",
   "metadata": {
    "id": "0WaNYgVBEsSZ"
   },
   "source": [
    "Laços for, diferente do while, percorrem uma lista de itens em particular combinados com a expressão in. Esses laços são muito usados com listas (que veremos mais a frente), mas também com objetos \"range\""
   ]
  },
  {
   "cell_type": "code",
   "execution_count": null,
   "metadata": {},
   "outputs": [],
   "source": []
  },
  {
   "cell_type": "markdown",
   "metadata": {
    "id": "ja1acPdGEsSZ"
   },
   "source": [
    "---"
   ]
  },
  {
   "cell_type": "markdown",
   "metadata": {
    "id": "Wgjwv2tOEsSZ"
   },
   "source": [
    "**Exercício 5**\n",
    "\n",
    "Sabe-se que um número da forma n^3 é igual a soma de n ímpares consecutivos.\n",
    "\n",
    "Exemplo: 1^3= 1, 2^3= 3+5, 3^3= 7+9+11,  4^3= 13+15+17+19,...\n",
    "\n",
    "Dado m, determine os ímpares consecutivos cuja soma é igual a n^3 para n\n",
    "assumindo valores de 1 a m. "
   ]
  },
  {
   "cell_type": "code",
   "execution_count": null,
   "metadata": {
    "id": "P59L6OVsEsSZ",
    "solution2": "hidden",
    "solution2_first": true
   },
   "outputs": [],
   "source": []
  },
  {
   "cell_type": "code",
   "execution_count": null,
   "metadata": {
    "ExecuteTime": {
     "end_time": "2022-01-16T17:52:26.184239Z",
     "start_time": "2022-01-16T17:52:23.342525Z"
    },
    "cellView": "form",
    "id": "JMc2yPedEsSZ",
    "solution2": "hidden"
   },
   "outputs": [],
   "source": [
    "#@title Resposta\n",
    "m = int(input(\"Digite o valor de m: \"))\n",
    "for n in range(1, m+1):\n",
    "    soma, inicio = 0, 1\n",
    "    while soma != n*n*n:\n",
    "        soma = 0\n",
    "        for i in range(n):\n",
    "            soma = soma + inicio + 2 * i\n",
    "        inicio += 2\n",
    "\n",
    "    inicio = inicio - 2\n",
    "    print(\"%d*%d*%d = \" % (n, n, n))\n",
    "    for i in range(n):\n",
    "        print(\"+\", inicio + 2 * i)\n",
    "    print(\"\\n\")"
   ]
  },
  {
   "cell_type": "markdown",
   "metadata": {
    "id": "VOzR47y9EsSZ"
   },
   "source": [
    "---"
   ]
  },
  {
   "cell_type": "markdown",
   "metadata": {
    "id": "nBhOdYBaEsSZ"
   },
   "source": [
    "#### Break e Continue"
   ]
  },
  {
   "cell_type": "markdown",
   "metadata": {
    "id": "SA7YxCleEsSZ"
   },
   "source": [
    "As expressões break e continue são controladores de fluxo que permitem alterar como um determinado loop funciona"
   ]
  },
  {
   "cell_type": "code",
   "execution_count": null,
   "metadata": {},
   "outputs": [],
   "source": []
  },
  {
   "cell_type": "markdown",
   "metadata": {
    "id": "QHjtbyQkEsSa"
   },
   "source": [
    "---"
   ]
  },
  {
   "cell_type": "markdown",
   "metadata": {
    "id": "pIXXnKT6EsSa"
   },
   "source": [
    "**Exercício 6**\n",
    "\n",
    "Escreva o jogo do chute.\n",
    "\n",
    "\n",
    "Nele, dado um número inteiro entre 1 e 100, você deve pedir\n",
    "para o usuário advinhar o número que você escolheu\n",
    "\n",
    "Para cada chute do usuário você deve imprimir uma dica, se\n",
    "ele chutou baixo de mais ou alto demais\n",
    "\n",
    "Uma vez que o usuário acerte o chute o programa imprime uma\n",
    "mensagem e também o número de chutes que o usuário deu\n",
    "\n",
    "OBS: Use o statement break\n",
    "\n",
    "Exemplo:\n",
    "\n",
    "    Tente advinhar o número que eu estou pensando\n",
    "    Seu Chute: 50\n",
    "    Você deve chutar mais alto!\n",
    "    Seu Chute: 75\n",
    "    Você deve chutar mais alto!\n",
    "    Seu Chute: 87\n",
    "    Você deve chutar mais alto!\n",
    "    Seu Chute: 93\n",
    "    Você deve chutar mais alto!\n",
    "    Seu Chute: 97\n",
    "    Você deve chutar mais baixo!\n",
    "    Seu Chute: 95\n",
    "    Parabens você acertou!!\n",
    "    Você chutou 6 vezes"
   ]
  },
  {
   "cell_type": "code",
   "execution_count": null,
   "metadata": {
    "id": "fpfh7ZUFEsSa",
    "solution2": "hidden",
    "solution2_first": true
   },
   "outputs": [],
   "source": []
  },
  {
   "cell_type": "code",
   "execution_count": null,
   "metadata": {
    "cellView": "form",
    "id": "xwtlFMoSEsSa",
    "solution2": "hidden"
   },
   "outputs": [],
   "source": [
    "#@title Resposta\n",
    "num = 37\n",
    "\n",
    "chutes = 0\n",
    "\n",
    "print(\"Tente advinhar o número que eu estou pensando\")\n",
    "\n",
    "while True:\n",
    "    chute = int(input(\"Seu Chute: \"))\n",
    "    chutes += 1\n",
    "    if chute == num:\n",
    "        break\n",
    "    elif chute < num:\n",
    "        print(\"Você deve chutar mais alto!\")\n",
    "    else:\n",
    "        print(\"Você deve chutar mais baixo!\")\n",
    "\n",
    "\n",
    "print(\"Parabens você acertou!!\")\n",
    "print(\"Você chutou %i vezes\"%chutes)"
   ]
  },
  {
   "cell_type": "markdown",
   "metadata": {
    "id": "2BnwrJgkEsSa"
   },
   "source": [
    "---"
   ]
  },
  {
   "cell_type": "markdown",
   "metadata": {
    "id": "9ixwrbQKEsSa"
   },
   "source": [
    "## Tipos de Variáveis"
   ]
  },
  {
   "cell_type": "markdown",
   "metadata": {
    "id": "G55O_P2dEsSa"
   },
   "source": [
    "### Variáveis Numéricas "
   ]
  },
  {
   "cell_type": "markdown",
   "metadata": {
    "id": "KWCXzuWDEsSa"
   },
   "source": [
    "#### Reais"
   ]
  },
  {
   "cell_type": "markdown",
   "metadata": {
    "id": "jqSo-qI4EsSa"
   },
   "source": [
    "Números reais são iguais a números inteiros, exceto que possuem casas decimais representadas por ."
   ]
  },
  {
   "cell_type": "code",
   "execution_count": null,
   "metadata": {},
   "outputs": [],
   "source": []
  },
  {
   "cell_type": "markdown",
   "metadata": {
    "id": "Q4Kn99wJEsSa"
   },
   "source": [
    "Podemos converter números reais para inteiros e vice-versa utilizando operações matemáticas, na qual, por padrão, sempre converteremos o resultado da operação para um valor real."
   ]
  },
  {
   "cell_type": "code",
   "execution_count": null,
   "metadata": {},
   "outputs": [],
   "source": []
  },
  {
   "cell_type": "markdown",
   "metadata": {
    "id": "Ky6aDs5BEsSb"
   },
   "source": [
    "As funções float e int.\n",
    "\n",
    "É importante notar que a função int não arredonda o número real, ela apenas pega o valor da representação numérica inteira do número"
   ]
  },
  {
   "cell_type": "code",
   "execution_count": null,
   "metadata": {},
   "outputs": [],
   "source": []
  },
  {
   "cell_type": "markdown",
   "metadata": {
    "id": "N8GktGYMEsSb"
   },
   "source": [
    "E a função round"
   ]
  },
  {
   "cell_type": "code",
   "execution_count": null,
   "metadata": {},
   "outputs": [],
   "source": []
  },
  {
   "cell_type": "markdown",
   "metadata": {
    "id": "rPO9tZOGEsSb"
   },
   "source": [
    "Nas funções de print podemos formatar números inteiros"
   ]
  },
  {
   "cell_type": "code",
   "execution_count": null,
   "metadata": {},
   "outputs": [],
   "source": []
  },
  {
   "cell_type": "markdown",
   "metadata": {
    "id": "CArU9Qh6EsSb"
   },
   "source": [
    "---"
   ]
  },
  {
   "cell_type": "markdown",
   "metadata": {
    "id": "pRw5ppU7EsSb"
   },
   "source": [
    "**Exercício 7**"
   ]
  },
  {
   "cell_type": "markdown",
   "metadata": {
    "id": "bzEGXoyPEsSb"
   },
   "source": [
    "Tendo como dados de entrada a altura e o sexo de uma pessoa, construa um algoritmo que calcule seu peso ideal, utilizando as seguintes fórmulas:\n",
    "\n",
    "Para homens: (72.7*h) - 58\n",
    "\n",
    "Para mulheres: (62.1*h) - 44.7 (h = altura)\n",
    "\n",
    "Peça o peso da pessoa e informe se ela está dentro, acima ou abaixo do peso."
   ]
  },
  {
   "cell_type": "code",
   "execution_count": null,
   "metadata": {
    "id": "ULvO7QCNEsSc",
    "solution2": "hidden",
    "solution2_first": true
   },
   "outputs": [],
   "source": []
  },
  {
   "cell_type": "code",
   "execution_count": null,
   "metadata": {
    "cellView": "form",
    "id": "wQ6ZzLKMEsSb",
    "solution2": "hidden"
   },
   "outputs": [],
   "source": [
    "#@title Resposta\n",
    "altura = float(input(\"Digite a sua altura: \"))\n",
    "sexo = int(input(\"Digite o seu sexo(Masculino = 0/ Feminino = 1): \"))\n",
    "peso = float(input(\"Digite o seu peso: \"))\n",
    "\n",
    "if sexo == 0:\n",
    "    peso_ideal = (72.7 * altura) - 58\n",
    "else:\n",
    "    peso_ideal = (62.1 * altura) - 44.7\n",
    "\n",
    "if peso > peso_ideal:\n",
    "    print(\"Você está acima do peso\")\n",
    "elif peso == peso_ideal:\n",
    "    print(\"Você está no seu peso ideal\")\n",
    "else:\n",
    "    print(\"Você está abaixo do peso\")"
   ]
  },
  {
   "cell_type": "markdown",
   "metadata": {
    "id": "cNMcWB-iEsSc"
   },
   "source": [
    "---"
   ]
  },
  {
   "cell_type": "markdown",
   "metadata": {
    "id": "8rRVHjGDEsSc"
   },
   "source": [
    "#### Complexo "
   ]
  },
  {
   "cell_type": "markdown",
   "metadata": {
    "id": "7dtxcO66EsSc"
   },
   "source": [
    "Python também possuí estruturas para representar números complexos utilizando o j para representar a parte imaginária de um número"
   ]
  },
  {
   "cell_type": "code",
   "execution_count": null,
   "metadata": {},
   "outputs": [],
   "source": []
  },
  {
   "cell_type": "markdown",
   "metadata": {
    "ExecuteTime": {
     "end_time": "2021-09-06T14:46:01.693481Z",
     "start_time": "2021-09-06T14:46:01.680986Z"
    },
    "id": "mUWYCbvpEsSc"
   },
   "source": [
    "Podemos acessar as partes reais e complexas de um número de forma independente"
   ]
  },
  {
   "cell_type": "code",
   "execution_count": null,
   "metadata": {},
   "outputs": [],
   "source": []
  },
  {
   "cell_type": "markdown",
   "metadata": {
    "id": "ENkX2nSbEsSc"
   },
   "source": [
    "E até fazer operações númericas com essas partes"
   ]
  },
  {
   "cell_type": "code",
   "execution_count": null,
   "metadata": {},
   "outputs": [],
   "source": []
  },
  {
   "cell_type": "markdown",
   "metadata": {
    "id": "jui-NfeCEsSc"
   },
   "source": [
    "Assim como com o próprio número"
   ]
  },
  {
   "cell_type": "code",
   "execution_count": null,
   "metadata": {},
   "outputs": [],
   "source": []
  },
  {
   "cell_type": "markdown",
   "metadata": {
    "id": "Yc-rwdNHEsSc"
   },
   "source": [
    "De forma análoga a int e float, temos também uma função \"complex\" que permite fazer a conversão em um número complexo"
   ]
  },
  {
   "cell_type": "code",
   "execution_count": null,
   "metadata": {},
   "outputs": [],
   "source": []
  },
  {
   "cell_type": "markdown",
   "metadata": {
    "id": "uJLPagZPEsSd"
   },
   "source": [
    "---"
   ]
  },
  {
   "cell_type": "markdown",
   "metadata": {
    "id": "eqxx7cDQEsSd"
   },
   "source": [
    "### Variáveis de Coleção "
   ]
  },
  {
   "cell_type": "markdown",
   "metadata": {
    "id": "4xW5b9WnEsSd"
   },
   "source": [
    "Além das variáveis que observamos até aqui que representam uma entidade numérica, nós também temos variáveis que corresponde a uma coleção de objetos. Isto é, variáveis com múltiplos valores. "
   ]
  },
  {
   "cell_type": "markdown",
   "metadata": {
    "id": "25XWT5iTEsSd"
   },
   "source": [
    "Essas variáveis são muito utilizadas quando precisamos armazenar grupos de informação específicos e tem múltiplicas aplicação nos ambientes de programação. Vamos ver as principais delas"
   ]
  },
  {
   "cell_type": "markdown",
   "metadata": {
    "id": "J5-TKMEeEsSd"
   },
   "source": [
    "---"
   ]
  },
  {
   "cell_type": "markdown",
   "metadata": {
    "id": "Jn8ZugV5EsSd"
   },
   "source": [
    "#### Listas "
   ]
  },
  {
   "cell_type": "markdown",
   "metadata": {
    "id": "PJFH7jrcEsSd"
   },
   "source": [
    "Python inclui diversas estruturas de dados compostas, usadas para agrupar outros valores. A mais versátil é list (lista), que pode ser escrita como uma lista de valores (itens) separados por vírgula, entre colchetes. Os valores contidos na lista não precisam ser todos do mesmo tipo."
   ]
  },
  {
   "cell_type": "code",
   "execution_count": null,
   "metadata": {},
   "outputs": [],
   "source": []
  },
  {
   "cell_type": "markdown",
   "metadata": {
    "id": "_DTE3HztEsSd"
   },
   "source": [
    "As lista podem ser indexadas (subscritas), com o primeiro elemento como índice 0"
   ]
  },
  {
   "cell_type": "code",
   "execution_count": null,
   "metadata": {},
   "outputs": [],
   "source": []
  },
  {
   "cell_type": "markdown",
   "metadata": {
    "id": "MzsULmdhEsSd"
   },
   "source": [
    "Índices também podem ser números negativos para iniciar a contagem pela direita:"
   ]
  },
  {
   "cell_type": "code",
   "execution_count": null,
   "metadata": {},
   "outputs": [],
   "source": []
  },
  {
   "cell_type": "markdown",
   "metadata": {
    "id": "l2ox1VSHEsSd"
   },
   "source": [
    "Note que dado que -0 é o mesmo que 0, índices negativos começam em -1.\n",
    "\n",
    "Além da indexação, o fatiamento também é permitido. Embora a indexação seja usada para obter elementos individuais, fatiar permite que você obtenha conjuntos de elementos:"
   ]
  },
  {
   "cell_type": "code",
   "execution_count": null,
   "metadata": {},
   "outputs": [],
   "source": []
  },
  {
   "cell_type": "markdown",
   "metadata": {
    "id": "GZFVGYHnEsSe"
   },
   "source": [
    "Os índices do fatiamento possuem padrões úteis; um primeiro índice omitido padrão é zero, um segundo índice omitido é por padrão o tamanho da lista sendo fatiada:"
   ]
  },
  {
   "cell_type": "code",
   "execution_count": null,
   "metadata": {},
   "outputs": [],
   "source": []
  },
  {
   "cell_type": "markdown",
   "metadata": {
    "id": "nTiY8GSREsSe"
   },
   "source": [
    "Observe como o início sempre está incluído, e o fim sempre é excluído. Isso garante que lista[:i] + lista[i:] seja sempre igual a lista:\n"
   ]
  },
  {
   "cell_type": "code",
   "execution_count": null,
   "metadata": {},
   "outputs": [],
   "source": []
  },
  {
   "cell_type": "markdown",
   "metadata": {
    "id": "nPGUbSOWEsSe"
   },
   "source": [
    "Uma maneira de lembrar como fatias funcionam é pensar que os índices indicam posições entre elementos, onde a borda esquerda do primeiro elemento é 0. Assim, a borda direita do último elemento de uma lista de comprimento n tem índice n, por exemplo:"
   ]
  },
  {
   "cell_type": "code",
   "execution_count": null,
   "metadata": {},
   "outputs": [],
   "source": []
  },
  {
   "cell_type": "markdown",
   "metadata": {
    "id": "kTgTtAAbEsSe"
   },
   "source": [
    "A primeira fileira de números indica a posição dos índices 0…6 na lista; a segunda fileira indica a posição dos respectivos índices negativos. Uma fatia de i a j consiste em todos os caracteres entre as bordas i e j, respectivamente.\n",
    "\n",
    "Para índices positivos, o comprimento da fatia é a diferença entre os índices, se ambos estão dentro dos limites da lista. Por exemplo, o comprimento de lista[1:3] é 2.\n",
    "\n",
    "A tentativa de usar um índice que seja muito grande resultará em um erro:"
   ]
  },
  {
   "cell_type": "code",
   "execution_count": null,
   "metadata": {},
   "outputs": [],
   "source": []
  },
  {
   "cell_type": "markdown",
   "metadata": {
    "id": "eLcXxfcfEsSe"
   },
   "source": [
    "No entanto, os índices de fatiamento fora do alcance são tratados graciosamente (N.d.T: o termo original “gracefully” indica robustez no tratamento de erros) quando usados para fatiamento. Um índice maior que o comprimento é trocado pelo comprimento, um limite superior menor que o limite inferior produz uma string vazia:"
   ]
  },
  {
   "cell_type": "code",
   "execution_count": null,
   "metadata": {},
   "outputs": [],
   "source": []
  },
  {
   "cell_type": "markdown",
   "metadata": {
    "id": "Qv1eDAwGEsSe"
   },
   "source": [
    "O terceiro termo do fatiamento indica o passo a ser aplicado entre cada elemento"
   ]
  },
  {
   "cell_type": "code",
   "execution_count": null,
   "metadata": {},
   "outputs": [],
   "source": []
  },
  {
   "cell_type": "markdown",
   "metadata": {
    "id": "cZCffKYDEsSe"
   },
   "source": [
    "Listas também podem ser combinadas entre si utilizando os operadores + e *"
   ]
  },
  {
   "cell_type": "code",
   "execution_count": null,
   "metadata": {},
   "outputs": [],
   "source": []
  },
  {
   "cell_type": "markdown",
   "metadata": {
    "id": "l8RG431gEsSe"
   },
   "source": [
    "Listas também aceitam qualquer tipo de objeto incluindo outras listas"
   ]
  },
  {
   "cell_type": "code",
   "execution_count": null,
   "metadata": {},
   "outputs": [],
   "source": []
  },
  {
   "cell_type": "markdown",
   "metadata": {
    "id": "CR22TeojEsSf"
   },
   "source": [
    "Listas são objetos mútaveis na qual podemos alterar os valores de seus elementos utilizando a sintaxe de atribuição"
   ]
  },
  {
   "cell_type": "code",
   "execution_count": null,
   "metadata": {},
   "outputs": [],
   "source": []
  },
  {
   "cell_type": "markdown",
   "metadata": {
    "id": "K2be-YTaEsSf"
   },
   "source": [
    "Além disso, elas possuem múltiplos métodos para alterar seu conteúdo (https://docs.python.org/3/tutorial/datastructures.html), abaixo listamos os mais comuns"
   ]
  },
  {
   "cell_type": "markdown",
   "metadata": {
    "ExecuteTime": {
     "end_time": "2021-09-06T23:12:27.466539Z",
     "start_time": "2021-09-06T23:12:27.460555Z"
    },
    "id": "1jnUPQyIEsSf"
   },
   "source": [
    "APPEND: Adiciona um novo elemento ao final da lista"
   ]
  },
  {
   "cell_type": "code",
   "execution_count": null,
   "metadata": {},
   "outputs": [],
   "source": []
  },
  {
   "cell_type": "markdown",
   "metadata": {
    "id": "VBcUq-P8EsSf"
   },
   "source": [
    "REMOVE: Remove a primeira ocorrência de um determinado elemento de uma lista"
   ]
  },
  {
   "cell_type": "code",
   "execution_count": null,
   "metadata": {},
   "outputs": [],
   "source": []
  },
  {
   "cell_type": "markdown",
   "metadata": {
    "id": "XWBg73X1EsSf"
   },
   "source": [
    "INSERT: Insere um novo elemento no indice selecionado da lista"
   ]
  },
  {
   "cell_type": "code",
   "execution_count": null,
   "metadata": {},
   "outputs": [],
   "source": []
  },
  {
   "cell_type": "markdown",
   "metadata": {
    "ExecuteTime": {
     "end_time": "2021-09-06T23:14:14.093013Z",
     "start_time": "2021-09-06T23:14:14.085038Z"
    },
    "id": "MokWB-O2EsSh"
   },
   "source": [
    "SORT: Ordena os elementos da lista"
   ]
  },
  {
   "cell_type": "code",
   "execution_count": null,
   "metadata": {},
   "outputs": [],
   "source": []
  },
  {
   "cell_type": "markdown",
   "metadata": {
    "id": "Xm_wlrPEEsSh"
   },
   "source": [
    "Assim como range, listas são objetos que podem ser percorridos com for loops"
   ]
  },
  {
   "cell_type": "code",
   "execution_count": null,
   "metadata": {},
   "outputs": [],
   "source": []
  },
  {
   "cell_type": "markdown",
   "metadata": {
    "id": "eo7303tqEsSh"
   },
   "source": [
    "E nós também podemos checar o conteúdo de uma lista usando a expressão \"in\""
   ]
  },
  {
   "cell_type": "code",
   "execution_count": null,
   "metadata": {},
   "outputs": [],
   "source": []
  },
  {
   "cell_type": "markdown",
   "metadata": {
    "id": "NWP1JAE0EsSi"
   },
   "source": [
    "A função embutida len() devolve o tamanho de uma lista:"
   ]
  },
  {
   "cell_type": "code",
   "execution_count": null,
   "metadata": {},
   "outputs": [],
   "source": []
  },
  {
   "cell_type": "markdown",
   "metadata": {
    "id": "A-gP-CAjEsSi"
   },
   "source": [
    "---"
   ]
  },
  {
   "cell_type": "markdown",
   "metadata": {
    "id": "lYDnuWycEsSi"
   },
   "source": [
    "**Exercício 8**"
   ]
  },
  {
   "cell_type": "markdown",
   "metadata": {
    "id": "xaOwOZzrEsSi"
   },
   "source": [
    "Faça um programa que leia um número indeterminado de valores, correspondentes a notas, encerrando a entrada de dados quando for informado um valor igual a -1 (que não deve ser armazenado).\n",
    "\n",
    "Após esta entrada de dados, faça:\n",
    "1. Mostre a quantidade de valores que foram lidos;\n",
    "1. Exiba todos os valores na ordem em que foram informados;\n",
    "1. Exiba todos os valores na ordem inversa à que foram informados;\n",
    "1. Calcule e mostre a soma dos valores;\n",
    "1. Calcule e mostre a média dos valores;\n",
    "1. Calcule e mostre a quantidade de valores acima da média calculada;\n",
    "1. Calcule e mostre a quantidade de valores abaixo de sete;\n",
    "1. Encerre o programa com uma mensagem;"
   ]
  },
  {
   "cell_type": "code",
   "execution_count": null,
   "metadata": {
    "id": "J0kSYkFQEsSi",
    "solution2": "hidden",
    "solution2_first": true
   },
   "outputs": [],
   "source": []
  },
  {
   "cell_type": "code",
   "execution_count": null,
   "metadata": {
    "cellView": "form",
    "id": "fIsT5ETPEsSi",
    "solution2": "hidden"
   },
   "outputs": [],
   "source": [
    "#@title Resposta\n",
    "notas = []\n",
    "\n",
    "while True:\n",
    "    nota = float(input(\"Digite uma nota: \"))\n",
    "    notas.append(nota)\n",
    "    if nota == -1: break\n",
    "\n",
    "print(\"Foram lidos %i valores.\" % len(notas))\n",
    "\n",
    "print(\"\\nValores informados: \")\n",
    "for nota in notas:\n",
    "    print(nota)\n",
    "\n",
    "print(\"\\nValores informados (ordem inversa): \")\n",
    "notas.reverse()\n",
    "for nota in notas:\n",
    "    print(nota)\n",
    "\n",
    "soma = 0\n",
    "for nota in notas:\n",
    "    soma += nota\n",
    "print(\"\\nA soma de valores é\", soma)\n",
    "\n",
    "soma /= len(notas)\n",
    "print(\"\\nA média dos valores é\", soma)\n",
    "\n",
    "acima = 0\n",
    "for nota in notas:\n",
    "    if nota > soma:\n",
    "        acima += 1\n",
    "print(\"\\nNúmero de notas acima da média é\", acima)\n",
    "\n",
    "abaixo = 0\n",
    "for nota in notas:\n",
    "    if nota < 7:\n",
    "        abaixo += 1\n",
    "print(\"\\nNúmero de notas abaixo de 7 é\", abaixo)"
   ]
  },
  {
   "cell_type": "markdown",
   "metadata": {
    "id": "pT5FGc8lEsSi"
   },
   "source": [
    "---"
   ]
  },
  {
   "cell_type": "markdown",
   "metadata": {
    "id": "Iv3FReD2EsSi"
   },
   "source": [
    "#### Tuplas "
   ]
  },
  {
   "cell_type": "markdown",
   "metadata": {
    "id": "ezfLkEt8EsSi"
   },
   "source": [
    "Uma tupla consiste em uma sequência de valores separados por vírgulas, por exemplo:"
   ]
  },
  {
   "cell_type": "code",
   "execution_count": null,
   "metadata": {},
   "outputs": [],
   "source": []
  },
  {
   "cell_type": "markdown",
   "metadata": {
    "id": "_NIemvOgEsSj"
   },
   "source": [
    "Como você pode ver no trecho acima, na saída do console as tuplas são sempre envolvidas por parênteses, assim tuplas aninhadas podem ser lidas corretamente. Na criação, tuplas podem ser envolvidas ou não por parênteses, desde que o contexto não exija os parênteses (como no caso da tupla dentro de uma expressão maior). Não é possível atribuir itens individuais de uma tupla, contudo é possível criar tuplas que contenham objetos mutáveis, como listas.\n"
   ]
  },
  {
   "cell_type": "code",
   "execution_count": null,
   "metadata": {},
   "outputs": [],
   "source": []
  },
  {
   "cell_type": "markdown",
   "metadata": {
    "id": "RmGBTLFIEsSj"
   },
   "source": [
    "Tuplas são muito similares a listas, entretanto são objetos imutaveis que ocupam menos memória e são mais eficientes computacionalmente"
   ]
  },
  {
   "cell_type": "code",
   "execution_count": null,
   "metadata": {},
   "outputs": [],
   "source": []
  },
  {
   "cell_type": "markdown",
   "metadata": {
    "id": "YeFBTcR-EsSj"
   },
   "source": [
    "\n",
    "Apesar de tuplas serem similares a listas, elas são frequentemente utilizadas em situações diferentes e com propósitos distintos. Tuplas são imutáveis, e usualmente contém uma sequência heterogênea de elementos que são acessados via desempacotamento (ver a seguir nessa seção) ou índice (ou mesmo por um atributo no caso de namedtuples). Listas são mutáveis, e seus elementos geralmente são homogêneos e são acessados iterando sobre a lista."
   ]
  },
  {
   "cell_type": "code",
   "execution_count": null,
   "metadata": {},
   "outputs": [],
   "source": []
  },
  {
   "cell_type": "markdown",
   "metadata": {
    "id": "LcXpBnMyEsSj"
   },
   "source": [
    "Um problema especial é a criação de tuplas contendo 0 ou 1 itens: a sintaxe usa certos truques para acomodar estes casos. Tuplas vazias são construídas por um par de parênteses vazios; uma tupla unitária é construída por um único valor e uma vírgula entre parênteses (não basta colocar um único valor entre parênteses). Feio, mas funciona. Por exemplo:"
   ]
  },
  {
   "cell_type": "code",
   "execution_count": null,
   "metadata": {},
   "outputs": [],
   "source": []
  },
  {
   "cell_type": "markdown",
   "metadata": {
    "id": "JsFvDGdoEsSj"
   },
   "source": [
    "---"
   ]
  },
  {
   "cell_type": "markdown",
   "metadata": {
    "id": "toq4xEzDEsSj"
   },
   "source": [
    "#### Dicionários "
   ]
  },
  {
   "cell_type": "markdown",
   "metadata": {
    "id": "Cv36zEcWEsSj"
   },
   "source": [
    "Outra estrutura de dados muito útil embutida em Python é o dicionário, cujo tipo é dict. Dicionários são também chamados de “memória associativa” ou “vetor associativo” em outras linguagens. Diferente de sequências que são indexadas por inteiros, dicionários são indexados por chaves (keys), que podem ser de qualquer tipo imutável (como strings e inteiros). Tuplas também podem ser chaves se contiverem apenas strings, inteiros ou outras tuplas. Se a tupla contiver, direta ou indiretamente, qualquer valor mutável, não poderá ser chave. Listas não podem ser usadas como chaves porque podem ser modificadas internamente pela atribuição em índices ou fatias, e por métodos como append() e extend().\n",
    "\n",
    "Um bom modelo mental é imaginar um dicionário como um conjunto não-ordenado de pares chave:valor, onde as chaves são únicas em uma dada instância do dicionário. Dicionários são delimitados por chaves: {}, e contém uma lista de pares chave:valor separada por vírgulas. Dessa forma também será exibido o conteúdo de um dicionário no console do Python. O dicionário vazio é {}."
   ]
  },
  {
   "cell_type": "code",
   "execution_count": null,
   "metadata": {},
   "outputs": [],
   "source": []
  },
  {
   "cell_type": "markdown",
   "metadata": {
    "id": "NyAmOejEEsSj"
   },
   "source": [
    "As principais operações em um dicionário são armazenar e recuperar valores a partir de chaves. Também é possível remover um par chave:valor com o comando del. Se você armazenar um valor utilizando uma chave já presente, o antigo valor será substituído pelo novo. Se tentar recuperar um valor usando uma chave inexistente, será gerado um erro."
   ]
  },
  {
   "cell_type": "code",
   "execution_count": null,
   "metadata": {},
   "outputs": [],
   "source": []
  },
  {
   "cell_type": "markdown",
   "metadata": {
    "id": "WwG0L2xmEsSk"
   },
   "source": [
    "Executar list(d) em um dicionário devolve a lista de todas as chaves presentes no dicionário, na ordem de inserção (se desejar ordená-las basta usar a função sorted(d)). Para verificar a existência de uma chave, use o operador in."
   ]
  },
  {
   "cell_type": "code",
   "execution_count": null,
   "metadata": {},
   "outputs": [],
   "source": []
  },
  {
   "cell_type": "markdown",
   "metadata": {
    "id": "n8kOmamiEsSk"
   },
   "source": [
    "Dicionários, assim como listas, possuem métodos pré-definidos que ajudam a trabalhar com a estrutura"
   ]
  },
  {
   "cell_type": "markdown",
   "metadata": {
    "id": "nnoddv52EsSk"
   },
   "source": [
    "KEYS: Lista de chaves do dicionário"
   ]
  },
  {
   "cell_type": "code",
   "execution_count": null,
   "metadata": {},
   "outputs": [],
   "source": []
  },
  {
   "cell_type": "markdown",
   "metadata": {
    "id": "RXTChLjmEsSk"
   },
   "source": [
    "VALUES: Lista de valores do dicionário"
   ]
  },
  {
   "cell_type": "code",
   "execution_count": null,
   "metadata": {},
   "outputs": [],
   "source": []
  },
  {
   "cell_type": "markdown",
   "metadata": {
    "id": "TRLid7baEsSk"
   },
   "source": [
    "ITEMS: Pares de chave e valor"
   ]
  },
  {
   "cell_type": "code",
   "execution_count": null,
   "metadata": {},
   "outputs": [],
   "source": []
  },
  {
   "cell_type": "markdown",
   "metadata": {
    "id": "VryaBHPlEsSk"
   },
   "source": [
    "GET: Obtém o valor do dicionário"
   ]
  },
  {
   "cell_type": "code",
   "execution_count": null,
   "metadata": {},
   "outputs": [],
   "source": []
  },
  {
   "cell_type": "markdown",
   "metadata": {
    "id": "nrTZ6XpiEsSk"
   },
   "source": [
    "---"
   ]
  },
  {
   "cell_type": "markdown",
   "metadata": {
    "id": "nyQRk1h4EsSk"
   },
   "source": [
    "**Exercício 9**"
   ]
  },
  {
   "cell_type": "markdown",
   "metadata": {
    "id": "zwKo34Y-EsSl"
   },
   "source": [
    "Escreva um programa que receba quantas entradas o usuário desejar e depois\n",
    "crie um novo contato para cada entrada (Nome, Telefone, Endereço, Email), e\n",
    "por fim imprima, em ordem alfabética, a agenda de contatos "
   ]
  },
  {
   "cell_type": "code",
   "execution_count": null,
   "metadata": {
    "id": "wuLJiKOPEsSl",
    "solution2": "hidden",
    "solution2_first": true
   },
   "outputs": [],
   "source": []
  },
  {
   "cell_type": "code",
   "execution_count": null,
   "metadata": {
    "cellView": "form",
    "id": "NAb_4YL9EsSl",
    "solution2": "hidden"
   },
   "outputs": [],
   "source": [
    "#@title Resposta\n",
    "nomes = []\n",
    "agenda = {}\n",
    "\n",
    "while True:\n",
    "    ordem = input('Deseja adicionar um novo contato(add) ou parar a execução(stop)').lower()\n",
    "\n",
    "    if not ordem.isalpha():\n",
    "        print(\"Digite apenas letras!\")\n",
    "        \n",
    "    elif ordem.startswith('a'):\n",
    "        contato = {}\n",
    "\n",
    "\n",
    "        nome = input('Digite o nome do contato: ')\n",
    "        if not nome[0].isupper():\n",
    "            nome = nome[0].upper() + nome[1:]\n",
    "\n",
    "        nomes.append(nome)\n",
    "\n",
    "        tel = input('Digite o telefone do contato: ')\n",
    "        contato['Telefone'] = tel\n",
    "\n",
    "        end = input('Digite o endereço do contato: ')\n",
    "        contato['Endereço'] = end\n",
    "\n",
    "        email = input('Digite o Email do contato: ')\n",
    "        contato['Email'] = email\n",
    "\n",
    "        agenda[nome] = contato\n",
    "        \n",
    "    elif ordem.startswith('s'):\n",
    "        break\n",
    "\n",
    "print('A G E N D A\\n')\n",
    "nomes.sort()\n",
    "for nome in nomes:\n",
    "    print('Nome: ', nome)\n",
    "    print('Telefone: ', agenda[nome]['Telefone'])\n",
    "    print('Endereço: ', agenda[nome]['Endereço'])\n",
    "    print('Email: ', agenda[nome]['Email'])\n",
    "    print()"
   ]
  },
  {
   "cell_type": "markdown",
   "metadata": {
    "id": "fBJNCYcNEsSl"
   },
   "source": [
    "---"
   ]
  },
  {
   "cell_type": "markdown",
   "metadata": {
    "id": "hkWrocc3EsSl"
   },
   "source": [
    "#### Sets "
   ]
  },
  {
   "cell_type": "markdown",
   "metadata": {
    "id": "Nx8jFmymEsSl"
   },
   "source": [
    "Python também inclui um tipo de dados para conjuntos, chamado set. Um conjunto é uma coleção desordenada de elementos, sem elementos repetidos. Usos comuns para conjuntos incluem a verificação eficiente da existência de objetos e a eliminação de itens duplicados. Conjuntos também suportam operações matemáticas como união, interseção, diferença e diferença simétrica.\n",
    "\n",
    "Chaves ou a função set() podem ser usados para criar conjuntos. Note: para criar um conjunto vazio você precisa usar set(), não {}; este último cria um dicionário vazio."
   ]
  },
  {
   "cell_type": "code",
   "execution_count": null,
   "metadata": {},
   "outputs": [],
   "source": []
  },
  {
   "cell_type": "markdown",
   "metadata": {
    "id": "OfJSj7WpEsSl"
   },
   "source": [
    "Sets permitem calculos de conjuntos como intersecção, sub e superset"
   ]
  },
  {
   "cell_type": "code",
   "execution_count": null,
   "metadata": {},
   "outputs": [],
   "source": []
  },
  {
   "cell_type": "markdown",
   "metadata": {
    "id": "t-JIVCx7EsSl"
   },
   "source": [
    "---"
   ]
  },
  {
   "cell_type": "markdown",
   "metadata": {
    "id": "_7ioi2vMEsSl"
   },
   "source": [
    "### Variáveis de Texto "
   ]
  },
  {
   "cell_type": "markdown",
   "metadata": {
    "id": "Hftc9eD6EsSl"
   },
   "source": [
    "Além de números, Python também pode manipular strings (sequências de caracteres), que podem ser expressas de diversas formas. Elas podem ser delimitadas por aspas simples ('...') ou duplas (\"...\") e teremos o mesmo resultado. \\ pode ser usada para escapar aspas:"
   ]
  },
  {
   "cell_type": "code",
   "execution_count": null,
   "metadata": {},
   "outputs": [],
   "source": []
  },
  {
   "cell_type": "markdown",
   "metadata": {
    "id": "m1j7P64vEsSm"
   },
   "source": [
    "Na interpretação interativa, a string de saída é delimitada com aspas e caracteres especiais são escapados com barras invertidas. Embora isso possa às vezes parecer diferente da entrada (as aspas podem mudar), as duas strings são equivalentes. A string é delimitada com aspas duplas se a string contiver uma única aspa simples e nenhuma aspa dupla, caso contrário, ela é delimitada com aspas simples."
   ]
  },
  {
   "cell_type": "markdown",
   "metadata": {
    "id": "i07GXkUNEsSm"
   },
   "source": [
    "Se não quiseres que os caracteres sejam precedidos por \\ para serem interpretados como caracteres especiais, poderás usar strings raw (N.d.T: “crua” ou sem processamento de caracteres de escape) adicionando um r antes da primeira aspa:"
   ]
  },
  {
   "cell_type": "code",
   "execution_count": null,
   "metadata": {},
   "outputs": [],
   "source": []
  },
  {
   "cell_type": "markdown",
   "metadata": {
    "id": "KHyaoAjTEsSm"
   },
   "source": [
    "As strings literais podem abranger várias linhas. Uma maneira é usar as aspas triplas: \"\"\"...\"\"\" ou '''...'''. O fim das linhas é incluído automaticamente na string, mas é possível evitar isso adicionando uma \\ no final. O seguinte exemplo:"
   ]
  },
  {
   "cell_type": "code",
   "execution_count": null,
   "metadata": {},
   "outputs": [],
   "source": []
  },
  {
   "cell_type": "markdown",
   "metadata": {
    "ExecuteTime": {
     "end_time": "2021-09-07T12:35:45.857002Z",
     "start_time": "2021-09-07T12:35:45.844036Z"
    },
    "id": "MoPLCu2_EsSm"
   },
   "source": [
    "Strings podem ser concatenadas (coladas) com o operador +, e repetidas com *:"
   ]
  },
  {
   "cell_type": "code",
   "execution_count": null,
   "metadata": {},
   "outputs": [],
   "source": []
  },
  {
   "cell_type": "markdown",
   "metadata": {
    "id": "mPdN_P0BEsSm"
   },
   "source": [
    "Duas ou mais strings literais (ou seja, entre aspas) ao lado da outra são automaticamente concatenados."
   ]
  },
  {
   "cell_type": "code",
   "execution_count": null,
   "metadata": {},
   "outputs": [],
   "source": []
  },
  {
   "cell_type": "markdown",
   "metadata": {
    "id": "hg2-XS8GEsSm"
   },
   "source": [
    "Esse recurso é particularmente útil quando você quer quebrar strings longas:"
   ]
  },
  {
   "cell_type": "code",
   "execution_count": null,
   "metadata": {},
   "outputs": [],
   "source": []
  },
  {
   "cell_type": "markdown",
   "metadata": {
    "id": "P7hGs624EsSn"
   },
   "source": [
    "Isso só funciona com duas strings literais, não com variáveis ou expressões:"
   ]
  },
  {
   "cell_type": "code",
   "execution_count": null,
   "metadata": {},
   "outputs": [],
   "source": []
  },
  {
   "cell_type": "markdown",
   "metadata": {
    "id": "OrA23oPhEsSn"
   },
   "source": [
    "Se você quiser concatenar variáveis ou uma variável e uma literal, use +:"
   ]
  },
  {
   "cell_type": "code",
   "execution_count": null,
   "metadata": {},
   "outputs": [],
   "source": []
  },
  {
   "cell_type": "markdown",
   "metadata": {
    "id": "z5Nm6ZtlEsSn"
   },
   "source": [
    "As strings podem ser indexadas (subscritas), da mesma maneira que listas e tuplas"
   ]
  },
  {
   "cell_type": "code",
   "execution_count": null,
   "metadata": {},
   "outputs": [],
   "source": []
  },
  {
   "cell_type": "markdown",
   "metadata": {
    "id": "qjUtNV8ZEsSn"
   },
   "source": [
    "As strings do Python não podem ser alteradas — uma string é imutável. Portanto, atribuir a uma posição indexada na sequência resulta em um erro:"
   ]
  },
  {
   "cell_type": "code",
   "execution_count": null,
   "metadata": {},
   "outputs": [],
   "source": []
  },
  {
   "cell_type": "markdown",
   "metadata": {
    "id": "iGpWqZJvEsSn"
   },
   "source": [
    "Se você precisar de uma string diferente, deverá criar uma nova:"
   ]
  },
  {
   "cell_type": "code",
   "execution_count": null,
   "metadata": {},
   "outputs": [],
   "source": []
  },
  {
   "cell_type": "markdown",
   "metadata": {
    "id": "vy-0p8Y5EsSn"
   },
   "source": [
    "A função embutida len() devolve o comprimento de uma string:"
   ]
  },
  {
   "cell_type": "code",
   "execution_count": null,
   "metadata": {},
   "outputs": [],
   "source": []
  },
  {
   "cell_type": "markdown",
   "metadata": {
    "id": "XZ1w0q2hEsSn"
   },
   "source": [
    "Assim como todas as variáveis numéricas strings também possuem uma função que permite converter uma expressão em texto."
   ]
  },
  {
   "cell_type": "code",
   "execution_count": null,
   "metadata": {},
   "outputs": [],
   "source": []
  },
  {
   "cell_type": "markdown",
   "metadata": {
    "id": "nqbdCf7KEsSn"
   },
   "source": [
    "Como já vimos, strings podem ser criadas a partir de outras variáveis apresentando formatações específicas. Há 4 principais tipos de sintaxe para isso: "
   ]
  },
  {
   "cell_type": "markdown",
   "metadata": {
    "id": "Jk8VzZkMEsSo"
   },
   "source": [
    "1) Operador %: A formatação que vimos no print com o uso do % para colocar inteiros e reais"
   ]
  },
  {
   "cell_type": "markdown",
   "metadata": {
    "id": "p90FtlXLEsSo"
   },
   "source": [
    "<img src=\"https://i.stack.imgur.com/j1NqG.png\" />"
   ]
  },
  {
   "cell_type": "code",
   "execution_count": null,
   "metadata": {},
   "outputs": [],
   "source": []
  },
  {
   "cell_type": "markdown",
   "metadata": {
    "ExecuteTime": {
     "end_time": "2021-09-07T12:49:06.456626Z",
     "start_time": "2021-09-07T12:49:06.438675Z"
    },
    "id": "tbrRNApXEsSo"
   },
   "source": [
    "2) str.format: Utiliza a sintaxe do .format passando para a string o nome de variáveis específicas"
   ]
  },
  {
   "cell_type": "code",
   "execution_count": null,
   "metadata": {},
   "outputs": [],
   "source": []
  },
  {
   "cell_type": "markdown",
   "metadata": {
    "id": "dM9djsJ5EsSo"
   },
   "source": [
    "3) f-strings: O formato que mais utilizaremos no curso, na qual ao colocar um \"f\" na frente da string podemos passar as variáveis diretamente para ela"
   ]
  },
  {
   "cell_type": "code",
   "execution_count": null,
   "metadata": {},
   "outputs": [],
   "source": []
  },
  {
   "cell_type": "markdown",
   "metadata": {
    "id": "8hjCcWhaEsSo"
   },
   "source": [
    "4) Templates: Gera strings que esperam determinadas variáveis para serem utilizadas com template múltiplas vezes"
   ]
  },
  {
   "cell_type": "code",
   "execution_count": null,
   "metadata": {},
   "outputs": [],
   "source": []
  },
  {
   "cell_type": "markdown",
   "metadata": {
    "id": "xpI2_7LlEsSp"
   },
   "source": [
    "Por fim, é importante destacar que há uma série de ferramentas pré-prontas para se trabalhar na manipulação de strings em python, os chamados métodos. Destacamos abaixo o mais utilizados"
   ]
  },
  {
   "cell_type": "markdown",
   "metadata": {
    "id": "b4qaEtdiEsSp"
   },
   "source": [
    "UPPER / LOWER: Converte um string para maiscula / minuscula"
   ]
  },
  {
   "cell_type": "code",
   "execution_count": null,
   "metadata": {},
   "outputs": [],
   "source": []
  },
  {
   "cell_type": "markdown",
   "metadata": {
    "id": "WMIy7x7ZEsSp"
   },
   "source": [
    "ISDIGIT: Checa se a string é numérica"
   ]
  },
  {
   "cell_type": "code",
   "execution_count": null,
   "metadata": {},
   "outputs": [],
   "source": []
  },
  {
   "cell_type": "markdown",
   "metadata": {
    "id": "l91PJH-KEsSp"
   },
   "source": [
    "SPLIT: Divide a string de acordo com um separador"
   ]
  },
  {
   "cell_type": "code",
   "execution_count": null,
   "metadata": {},
   "outputs": [],
   "source": []
  },
  {
   "cell_type": "markdown",
   "metadata": {
    "id": "gRXsqsy2EsSp"
   },
   "source": [
    "JOIN: Junta uma lista ou tupla de textos em um string usando uma string de junção"
   ]
  },
  {
   "cell_type": "code",
   "execution_count": null,
   "metadata": {},
   "outputs": [],
   "source": []
  },
  {
   "cell_type": "markdown",
   "metadata": {
    "id": "Xkkbd5ssEsSp"
   },
   "source": [
    "STRIP: Elimina caracteres vazios nos extremos da string"
   ]
  },
  {
   "cell_type": "code",
   "execution_count": null,
   "metadata": {},
   "outputs": [],
   "source": []
  },
  {
   "cell_type": "markdown",
   "metadata": {
    "id": "pkzSkaXLEsSp"
   },
   "source": [
    "---"
   ]
  },
  {
   "cell_type": "markdown",
   "metadata": {
    "id": "i1Hc8J05EsSp"
   },
   "source": [
    "**Exercício 10**"
   ]
  },
  {
   "cell_type": "markdown",
   "metadata": {
    "id": "NfPYwsY9EsSp"
   },
   "source": [
    "Vamos criar um programa que reproduza a Cifra de Cesar.\n",
    "\n",
    "Este era um método utilizado pelos Romanos de criptografia de mensagens, na qual se codificava o valor de cada letra do alfabeto a um número e então, por meio de uma chave numérica, se deslocava as letras de acordo com o valor dessa chave.\n",
    "\n",
    "Por exemplo se codificassemos a = 1, b = 2, c = 3, ... a letra \"a\" codificada com chave 3, se tornaria \"d\", porque a=1 e d=4 (4 = 1 + 3).\n",
    "\n",
    "Escreva um programa que permita criptografar e descriptografar uma mensagem. \n",
    "\n",
    "Primeiro peça para o usuário informar se ele deseja criptografar ou descriptografar uma mensagem. Depois peça o valor da chave, obrigando-o a informar um valor entre 1 e 26. Em seguida, peça uma mensagem a ser traduzida e converta-a para minúsculo, também remova caracteres com acento ou \"ç\" da string. Por fim aplique o método da cifra para traduzir a mensagem.\n",
    "\n",
    "DICA: Pode ser útil olhar para as funções ord e chr."
   ]
  },
  {
   "cell_type": "code",
   "execution_count": null,
   "metadata": {
    "id": "CAmWjataEsSq",
    "solution2": "hidden",
    "solution2_first": true
   },
   "outputs": [],
   "source": []
  },
  {
   "cell_type": "code",
   "execution_count": null,
   "metadata": {
    "ExecuteTime": {
     "end_time": "2021-09-07T13:47:54.595733Z",
     "start_time": "2021-09-07T13:47:49.109223Z"
    },
    "cellView": "form",
    "id": "07X9rHcAEsSq",
    "solution2": "hidden"
   },
   "outputs": [],
   "source": [
    "#@title Resposta\n",
    "TAM_MAX_CH = 26\n",
    "\n",
    "# primeiro nós pegamos o modo a ser aplicado na string\n",
    "while True:\n",
    "    modo = input(\"Você deseja criptografar ou decriptografar? \").lower()\n",
    "    if modo in [\"criptografar\", \"c\", \"decriptografar\",  \"d\"]:\n",
    "        break\n",
    "    else:\n",
    "        print(\"Entre 'criptografar' ou 'c' ou 'decriptografar' ou 'd'.\")\n",
    "\n",
    "# depois pedimos a mensagem a ser processada\n",
    "mensagem = input(\"Entre sua mensagem: \").lower()\n",
    "\n",
    "# garante que a mensagem não tenha caractéres com acento ou ç\n",
    "orig = \"áàãâéèêíìîóòõôúùûç\"\n",
    "sub = \"aaaaeeeiiioooouuuc\"\n",
    "repl = dict(zip(orig, sub))\n",
    "for o, r in repl.items():\n",
    "    mensagem = mensagem.replace(o, r)\n",
    "\n",
    "# pedimos então a chave da criptografia\n",
    "chave = 0\n",
    "while True:\n",
    "    chave = int(input(f\"Entre o número da chave (1-{TAM_MAX_CH}): \"))\n",
    "    if 1 <= chave <= TAM_MAX_CH:\n",
    "        break\n",
    "    else:\n",
    "        print(f\"A chave deve estar entre 1 e {TAM_MAX_CH}\")\n",
    "        \n",
    "# Nós então traduzimos a mensagem\n",
    "if modo[0] == \"d\":\n",
    "    chave *= -1\n",
    "\n",
    "traduzido = \"\"\n",
    "\n",
    "# para cada caracter na mensagem\n",
    "for simbolo in mensagem:\n",
    "    # nós verificamos se o caracter é alpha numérico\n",
    "    if simbolo.isalpha():\n",
    "        # se for nós pegamos a ordem do simbolo\n",
    "        num = ord(simbolo)\n",
    "        \n",
    "        # então nós adicionamos o valor da chave a ordem\n",
    "        num += chave\n",
    "        \n",
    "        # nós então garantimos que o simbolo não ultrapasse os\n",
    "        # valores de ordem entre A e Z\n",
    "        if num > ord(\"z\"):\n",
    "            num -= 26\n",
    "        elif num < ord(\"a\"):\n",
    "            num += 26\n",
    "        \n",
    "        # convertemos o simbolo para um caracter e adicionamos\n",
    "        # a mensagem\n",
    "        traduzido += chr(num)\n",
    "    else:\n",
    "        traduzido += simbolo\n",
    "\n",
    "# imprime a mensagem traduzida\n",
    "print(traduzido)"
   ]
  },
  {
   "cell_type": "markdown",
   "metadata": {
    "id": "JcMSzxQ6EsSq"
   },
   "source": [
    "---"
   ]
  },
  {
   "cell_type": "markdown",
   "metadata": {
    "id": "oSBxuuesEsSq"
   },
   "source": [
    "## Módulos "
   ]
  },
  {
   "cell_type": "markdown",
   "metadata": {
    "id": "jRLk5DPBEsSq"
   },
   "source": [
    "Uma das maiores vantagens do python é sua modularidade e comunidade. Porque Python é uma linguagem aberta, há muitas pessoas que desenvolvem para a mesma, e muitas vezes sua vida fica muito mais fácil utilizando esse código pré escrito do que o reescrevendo."
   ]
  },
  {
   "cell_type": "markdown",
   "metadata": {
    "ExecuteTime": {
     "end_time": "2021-09-06T22:00:08.920354Z",
     "start_time": "2021-09-06T22:00:08.916365Z"
    },
    "id": "IHBirLgNEsSq"
   },
   "source": [
    "Essas bibliotecas são chamadas de módulo e podem ser importandas utilizando a sintexe do import"
   ]
  },
  {
   "cell_type": "code",
   "execution_count": null,
   "metadata": {},
   "outputs": [],
   "source": []
  },
  {
   "cell_type": "markdown",
   "metadata": {
    "id": "a53ksJHkEsSq"
   },
   "source": [
    "Ao fazer isso podemos acessar as múltiplas funcionalidades daquele módulo utilizando a sintaxe do ponto"
   ]
  },
  {
   "cell_type": "code",
   "execution_count": null,
   "metadata": {},
   "outputs": [],
   "source": []
  },
  {
   "cell_type": "markdown",
   "metadata": {
    "id": "rhBF3oCGEsSq"
   },
   "source": [
    "Além disso, podemos importar funções específicas de cada módulo utilizando a sintaxe do from"
   ]
  },
  {
   "cell_type": "code",
   "execution_count": null,
   "metadata": {},
   "outputs": [],
   "source": []
  },
  {
   "cell_type": "markdown",
   "metadata": {
    "id": "tgqoZ4arEsSq"
   },
   "source": [
    "Caso já tenhamos váriaveis ou funções com os nomes desses módulos podemos renomear-los usando a expressão \"as\""
   ]
  },
  {
   "cell_type": "code",
   "execution_count": null,
   "metadata": {},
   "outputs": [],
   "source": []
  },
  {
   "cell_type": "markdown",
   "metadata": {
    "id": "sQdjy4r-EsSq"
   },
   "source": [
    "---"
   ]
  },
  {
   "cell_type": "markdown",
   "metadata": {
    "id": "YrmtNPevEsSr"
   },
   "source": [
    "**Exercício 11**\n",
    "\n",
    "Escreva um programa para simular o jogo das portas. Faça um programa que tenha\n",
    "a saída como a seguinte:\n",
    "\n",
    "> <p>Olá, bem-vindo ao nosso programa! Vamos ver se você vai ganhar um carro ou não!</p>\n",
    "> <p>Escolha uma porta: 3</p>\n",
    "> <p>Você escolheu a porta 3, mas</p>\n",
    "> <p>eu lhe informo que na porta 2 há um bode.</p>\n",
    "> <p>Deseja trocar de porta (1 - Sim/ 0 - Não): 1</p>\n",
    "> <p>Ganhou um carro!</p>\n",
    "\n",
    "Sortei de forma aleatória a porta com o carro. Utilize o módulo random (https://docs.python.org/3/library/random.html) para isso."
   ]
  },
  {
   "cell_type": "code",
   "execution_count": null,
   "metadata": {
    "id": "jAdlZr1EEsSr",
    "solution2": "hidden",
    "solution2_first": true
   },
   "outputs": [],
   "source": []
  },
  {
   "cell_type": "code",
   "execution_count": null,
   "metadata": {
    "ExecuteTime": {
     "end_time": "2021-09-06T15:30:13.321560Z",
     "start_time": "2021-09-06T15:30:06.961962Z"
    },
    "cellView": "form",
    "id": "reo6As6jEsSr",
    "solution2": "hidden"
   },
   "outputs": [],
   "source": [
    "#@title Resposta\n",
    "import random\n",
    "\n",
    "print(\"Olá, bem-vindo ao nosso programa! Vamos ver se você vai ganhar um carro ou não!\")\n",
    "\n",
    "porta = int(input(\"Escolha uma porta: \"))\n",
    "# premio = random.choice([1, 2, 3])\n",
    "# premio = random.randrange(1, 4)\n",
    "premio = random.randint(1, 3)\n",
    "\n",
    "if premio != 1 and porta != 1:\n",
    "    bode = 1\n",
    "elif premio != 2 and porta != 2:\n",
    "    bode = 2\n",
    "else:\n",
    "    bode = 3\n",
    "\n",
    "print(\"Você escolheu a porta %i, mas\" % porta)\n",
    "print(\"eu lhe informo que na porta %i há um bode.\" % bode)\n",
    "\n",
    "decisão = int(input(\"Deseja trocar de porta (1 - Sim/ 0 - Não): \"))\n",
    "\n",
    "if decisão == 1:\n",
    "    if porta != 1 and bode != 1:\n",
    "        porta = 1\n",
    "    elif porta != 2 and bode != 2:\n",
    "        porta = 2\n",
    "    else:\n",
    "        porta = 3\n",
    "\n",
    "if porta == premio:\n",
    "    print(\"Ganhou um carro!\")\n",
    "else:\n",
    "    print(\"Não ganhou um carro...\")"
   ]
  },
  {
   "cell_type": "markdown",
   "metadata": {
    "id": "oDh12TqQEsSr"
   },
   "source": [
    "---"
   ]
  },
  {
   "cell_type": "markdown",
   "metadata": {
    "id": "Len7iJQcEsSr"
   },
   "source": [
    "## Funções"
   ]
  },
  {
   "cell_type": "markdown",
   "metadata": {
    "id": "z6GrjuUEEsSr"
   },
   "source": [
    "### Definição "
   ]
  },
  {
   "cell_type": "markdown",
   "metadata": {
    "id": "tCmGhBjHEsSr"
   },
   "source": [
    "A palavra reservada def inicia a definição de uma função. Ela deve ser seguida do nome da função e da lista de parâmetros formais entre parênteses. Os comandos que formam o corpo da função começam na linha seguinte e devem ser indentados."
   ]
  },
  {
   "cell_type": "markdown",
   "metadata": {
    "id": "wsRXV49fEsSr"
   },
   "source": [
    "<img src=\"https://bham-carpentries.github.io/2018-12-17-bham_python-novice-inflammation/fig/python-function.svg\" />"
   ]
  },
  {
   "cell_type": "code",
   "execution_count": null,
   "metadata": {},
   "outputs": [],
   "source": []
  },
  {
   "cell_type": "markdown",
   "metadata": {
    "id": "AG0aEA-JEsSr"
   },
   "source": [
    "### Variáveis de Função "
   ]
  },
  {
   "cell_type": "markdown",
   "metadata": {
    "id": "oywluPlGEsSr"
   },
   "source": [
    "A execução de uma função cria uma nova tabela de símbolos para as variáveis locais da função. Mais precisamente, todas as atribuições de variáveis numa função são armazenadas na tabela de símbolos local; referências a variáveis são buscadas primeiro na tabela de símbolos local, em seguida na tabela de símbolos locais de funções delimitadoras ou circundantes, depois na tabela de símbolos global e, finalmente, na tabela de nomes da própria linguagem."
   ]
  },
  {
   "cell_type": "code",
   "execution_count": null,
   "metadata": {},
   "outputs": [],
   "source": []
  },
  {
   "cell_type": "markdown",
   "metadata": {
    "id": "k3nBb8UsEsSs"
   },
   "source": [
    "### Argumentos "
   ]
  },
  {
   "cell_type": "markdown",
   "metadata": {
    "id": "TMt-BD9zEsSs"
   },
   "source": [
    "É possível definir funções com um número variável de argumentos. Existem três formas, que podem ser combinadas."
   ]
  },
  {
   "cell_type": "markdown",
   "metadata": {
    "id": "FUBj8IUKEsSs"
   },
   "source": [
    "**Argumentos com valor padrão**: A mais útil das três é especificar um valor padrão para um ou mais argumentos. Isso cria uma função que pode ser invocada com menos argumentos do que os que foram definidos. Por exemplo:"
   ]
  },
  {
   "cell_type": "code",
   "execution_count": null,
   "metadata": {},
   "outputs": [],
   "source": []
  },
  {
   "cell_type": "markdown",
   "metadata": {
    "id": "ltIFJZl5EsSs"
   },
   "source": [
    "Aviso importante: Valores padrões são avaliados apenas uma vez. Isso faz diferença quando o valor é um objeto mutável, como uma lista, dicionário, ou instâncias de classes. Por exemplo, a função a seguir acumula os argumentos passados, nas chamadas subsequentes:"
   ]
  },
  {
   "cell_type": "code",
   "execution_count": null,
   "metadata": {},
   "outputs": [],
   "source": []
  },
  {
   "cell_type": "markdown",
   "metadata": {
    "id": "VAs9UGvREsSs"
   },
   "source": [
    "**Argumentos nomeados**: Funções também podem ser chamadas usando argumentos nomeados da forma chave=valor. Por exemplo, a função a seguir:"
   ]
  },
  {
   "cell_type": "code",
   "execution_count": null,
   "metadata": {},
   "outputs": [],
   "source": []
  },
  {
   "cell_type": "markdown",
   "metadata": {
    "id": "A4KE1Bf4EsSs"
   },
   "source": [
    "Em uma chamada de função, argumentos nomeados devem vir depois dos argumentos posicionais. Todos os argumentos nomeados passados devem corresponder com argumentos aceitos pela função (ex. comida não é um argumento nomeado válido para a função papai_noel), mas sua ordem é irrelevante. Isto também inclui argumentos obrigatórios (ex.: papai_noel(vel=1000) funciona). Nenhum argumento pode receber mais de um valor. Eis um exemplo que não funciona devido a esta restrição:"
   ]
  },
  {
   "cell_type": "code",
   "execution_count": null,
   "metadata": {},
   "outputs": [],
   "source": []
  },
  {
   "cell_type": "markdown",
   "metadata": {
    "id": "IobA5gRFEsSs"
   },
   "source": [
    "Quando um último parâmetro formal no formato \\*\\*nome está presente, ele recebe um dicionário (veja Tipo mapeamento — dict) contendo todos os argumentos nomeados, exceto aqueles que correspondem a um parâmetro formal. Isto pode ser combinado com um parâmetro formal no formato \\*nome (descrito na próxima subseção) que recebe uma tupla contendo os argumentos posicionais, além da lista de parâmetros formais. (\\*nome deve ocorrer antes de \\*\\*nome.) Por exemplo, se definirmos uma função assim:"
   ]
  },
  {
   "cell_type": "code",
   "execution_count": null,
   "metadata": {},
   "outputs": [],
   "source": []
  },
  {
   "cell_type": "markdown",
   "metadata": {
    "id": "boN8xzvtEsSt"
   },
   "source": [
    "**Parâmetros especiais**: Por padrão, argumentos podem ser passadas para uma função Python tanto por posição quanto explicitamente pelo nome. Para uma melhor legibilidade e desempenho, faz sentido restringir a maneira pelo qual argumentos possam ser passados, assim um desenvolvedor precisa apenas olhar para a definição da função para determinar se os itens são passados por posição, por posição e nome, ou por nome.\n",
    "\n",
    "A definição de uma função pode parecer com:"
   ]
  },
  {
   "cell_type": "raw",
   "metadata": {
    "id": "ZG37EnDqEsSt"
   },
   "source": [
    "def f(pos1, pos2, /, pos_or_kwd, *, kwd1, kwd2):\n",
    "      -----------    ----------     ----------\n",
    "        |             |                  |\n",
    "        |        Positional or keyword   |\n",
    "        |                                - Keyword only\n",
    "         -- Positional only"
   ]
  },
  {
   "cell_type": "markdown",
   "metadata": {
    "id": "-MC8Lp2qEsSt"
   },
   "source": [
    "*Argumentos posicional-ou-nomeados*: Se / e * não estão presentes na definição da função, argumentos podem ser passados para uma função por posição ou por nome.\n",
    "\n",
    "*Parâmetros somente-posicionais*: Olhando com um pouco mais de detalhes, é possível definir certos parâmetros como somente-posicional. Se somente-posicional, a ordem do parâmetro importa, e os parâmetros não podem ser passados por nome. Parâmetros somente-posicional são colocados antes de / (barra). A / é usada para logicamente separar os argumentos somente-posicional dos demais parâmetros. Se não existe uma / na definição da função, não existe parâmetros somente-posicionais.\n",
    "\n",
    "Parâmetros após a / podem ser posicional-ou-nomeado ou somente-nomeado.\n",
    "\n",
    "*Argumentos somente-nomeados*: Para definir parâmetros como somente-nomeado, indicando que o parâmetro deve ser passado por argumento nomeado, colocamos um * na lista de argumentos imediatamente antes do primeiro parâmetro somente-nomeado."
   ]
  },
  {
   "cell_type": "code",
   "execution_count": null,
   "metadata": {},
   "outputs": [],
   "source": []
  },
  {
   "cell_type": "markdown",
   "metadata": {
    "id": "n5i8-4d8EsSt"
   },
   "source": [
    "### Retorno "
   ]
  },
  {
   "cell_type": "markdown",
   "metadata": {
    "id": "k8Pqhx_4EsSt"
   },
   "source": [
    "É fácil escrever uma função que retorna o texto ao invés de exibi-los:"
   ]
  },
  {
   "cell_type": "code",
   "execution_count": null,
   "metadata": {},
   "outputs": [],
   "source": []
  },
  {
   "cell_type": "markdown",
   "metadata": {
    "id": "gH9CczlDEsSt"
   },
   "source": [
    "A instrução return finaliza a execução e retorna um valor da função. return sem qualquer expressão como argumento retorna None. Atingir o final da função também retorna None."
   ]
  },
  {
   "cell_type": "markdown",
   "metadata": {
    "id": "mOFhfeyEEsSt"
   },
   "source": [
    "A instrução também pode retornar múltiplos valores ao invés de apenas um, gerando uma tupla como resultado"
   ]
  },
  {
   "cell_type": "code",
   "execution_count": null,
   "metadata": {},
   "outputs": [],
   "source": []
  },
  {
   "cell_type": "markdown",
   "metadata": {
    "id": "7ctdKBUoEsSt"
   },
   "source": [
    "### Docstring "
   ]
  },
  {
   "cell_type": "markdown",
   "metadata": {
    "id": "ibUhkzMlEsSt"
   },
   "source": [
    "Opcionalmente, a primeira linha do corpo da função pode ser uma literal string, cujo propósito é documentar a função. Se presente, essa string chama-se docstring. (Há mais informação sobre docstrings na seção Strings de documentação.) Existem ferramentas que utilizam docstrings para produzir automaticamente documentação online ou para imprimir, ou ainda, permitir que o usuário navegue interativamente pelo código. É uma boa prática incluir sempre docstrings em suas funções, portanto, tente fazer disso um hábito."
   ]
  },
  {
   "cell_type": "code",
   "execution_count": null,
   "metadata": {},
   "outputs": [],
   "source": []
  },
  {
   "cell_type": "markdown",
   "metadata": {
    "id": "BT_40OuZEsSt"
   },
   "source": [
    "Em particular o padrão de documentação que utilizaremos é o Sphinx (https://www.sphinx-doc.org/en/master/).\n",
    "\n",
    "Sphinx usa a sintaxe de palavra-chave (palavra reservada), que a maioria das linguagens de programação fazem. As palavras-chave mais importantes são:\n",
    "\n",
    "- *param* e *type*: O valor do parâmetro e o tipo de variável.\n",
    "- *return* e *rtype*: o valor de retorno e seu tipo.\n",
    "- *:raise* : Descreve todos os erros que são levantados pelo código.\n",
    "- *.. seealso::*: Leituras adicionais.\n",
    "- *.. notes::*: Adicionar uma nota.\n",
    "- *.. warning::*: Adicionar um aviso."
   ]
  },
  {
   "cell_type": "code",
   "execution_count": null,
   "metadata": {},
   "outputs": [],
   "source": []
  },
  {
   "cell_type": "markdown",
   "metadata": {
    "id": "kYEUvyU5EsSu"
   },
   "source": [
    "Para mais detalhes veja https://sphinx-rtd-tutorial.readthedocs.io/en/latest/docstrings.html"
   ]
  },
  {
   "cell_type": "markdown",
   "metadata": {
    "id": "ID71GCTAEsSu"
   },
   "source": [
    "### Type hint"
   ]
  },
  {
   "cell_type": "markdown",
   "metadata": {
    "id": "xJTiOhe6EsSu"
   },
   "source": [
    "Em Python utiliza-se tipagem dinâmica, na qual os tipos de variáveis são atribuidos no momento da execução do código. Por exemplo, quando definimos a função ola_mundo, a príncipio não informamos qual era o tipo da variavel \"nome\", mas de alguma maneira, em algum momento, a linguagem conseguiu inferir que nome deveria ser do tipo \"string\" e com isso executar os blocos de código de acordo.\n",
    "\n",
    "Podemos, por outro lado, colocar de forma explícita o tipo de uma determinada variável utilizando o \"type hint\". Como o nome implica (type hint = dica de tipo) esta especificação não forçará a linguagem a utilizar um determinado tipo para uma variável, mas ajudará na documentação e em verificações do código, e serão muito utilizados no nosso código"
   ]
  },
  {
   "cell_type": "code",
   "execution_count": null,
   "metadata": {},
   "outputs": [],
   "source": []
  },
  {
   "cell_type": "markdown",
   "metadata": {
    "id": "aAwnxHspEsSu"
   },
   "source": [
    "Para mais detalhes https://diogommartins.medium.com/python-3-e-type-hints-40e80a9e8214"
   ]
  },
  {
   "cell_type": "markdown",
   "metadata": {
    "id": "Q15hjwtjEsSu"
   },
   "source": [
    "### Funções anônimas"
   ]
  },
  {
   "cell_type": "markdown",
   "metadata": {
    "id": "VN8ydeltEsSu"
   },
   "source": [
    "Pequenas funções anônimas podem ser criadas com a palavra-chave lambda. Esta função retorna a soma de seus dois argumentos: lambda a, b: a+b. As funções lambda podem ser usadas sempre que objetos função forem necessários. Eles são sintaticamente restritos a uma única expressão. Semanticamente, eles são apenas açúcar sintático para uma definição de função normal. Como definições de funções aninhadas, as funções lambda podem referenciar variáveis contidas no escopo:"
   ]
  },
  {
   "cell_type": "code",
   "execution_count": null,
   "metadata": {},
   "outputs": [],
   "source": []
  },
  {
   "cell_type": "markdown",
   "metadata": {
    "id": "OsD0Qam4EsSu"
   },
   "source": [
    "O exemplo acima usa uma expressão lambda para retornar uma função. Outro uso é passar uma pequena função como um argumento:"
   ]
  },
  {
   "cell_type": "code",
   "execution_count": null,
   "metadata": {},
   "outputs": [],
   "source": []
  },
  {
   "cell_type": "markdown",
   "metadata": {
    "id": "_tXQj-AlEsSu"
   },
   "source": [
    "---"
   ]
  },
  {
   "cell_type": "markdown",
   "metadata": {
    "id": "T4Yq3nmOEsSv"
   },
   "source": [
    "**Exercício 12**"
   ]
  },
  {
   "cell_type": "markdown",
   "metadata": {
    "id": "rL1UUxxxEsSv"
   },
   "source": [
    "No jogo dos 15 o objetivo é receber uma matriz com números de 1 a 15 ordenados de forma aleatória e ir trocando as peças até que se consiga obter um tabuleiro com os números ordenados.\n",
    "\n",
    "<img src=\"https://images-na.ssl-images-amazon.com/images/I/8107cskBQ3L.png\" width=200 height=150 />\n",
    "\n",
    "Neste exercício iremos reproduzir o jogo dos 15 através da construção de funções específicas. Você já começa com algumas funções pré-definidas, como gera_matriz, mas precisará completar as demais:\n",
    "\n",
    "1. troca_elemento: Troca os elementos de uma matriz de itens\n",
    "1. verifica_se_venceu: Recebe uma matriz 4x4 e verifica se os números estão ordenados de forma que o jogador venceu\n",
    "1. verifica_jogada: Verifica se a jogada escolhida pelo usuário é válida\n",
    "\n",
    "Você pode fazer quantas funções adcionais quanto quiser\n",
    "\n",
    "Organize o seu jogo dentro da função main. Dê para o usuário a toda rodada a opção de desistir(0) ou de inserir uma posição(1), a posição inserida será feita colocando a linha e coluna da matriz, por exemplo 11 significa que\n",
    "estamos nos referenciando ao elemento da linha 1 coluna 1, 32 se referencia ao elemento da linha 3 coluna 2"
   ]
  },
  {
   "cell_type": "code",
   "execution_count": null,
   "metadata": {
    "id": "LZM5KnKrHMwh",
    "solution2": "hidden",
    "solution2_first": true
   },
   "outputs": [],
   "source": [
    "import random\n",
    "import typing\n",
    "import time\n",
    "from IPython.display import clear_output\n",
    "\n",
    "\n",
    "def gera_matriz() -> typing.List[typing.List[int]]:\n",
    "    \"\"\"\n",
    "    Gera uma matriz 4x4 com elementos em posições aleatórias\n",
    "    entre 0 e 15\n",
    "    \n",
    "    :return: matriz 4x4 com valores entre 0 e 15\n",
    "    \"\"\"\n",
    "    matriz = list()\n",
    "    lista = list(range(16))\n",
    "    for j in range(4):\n",
    "        linha = []\n",
    "        for i in range(4):\n",
    "            x = random.choice(lista)\n",
    "            linha.append(x)\n",
    "            lista.remove(x)\n",
    "        matriz.append(linha)\n",
    "    return matriz\n",
    "        \n",
    "\n",
    "def acha_pos_zero(matriz: typing.List[typing.List[int]]) -> int:\n",
    "    \"\"\"\n",
    "    Função que procura e devolve a posição do zero da matriz (espaço vazio)\n",
    "    \n",
    "    :param matriz: matriz com os elementos do jogo\n",
    "    :return: posição do elemento 0\n",
    "    \"\"\"\n",
    "    for i in range(len(matriz)):\n",
    "        for j in range(len(matriz[0])):\n",
    "            if matriz[i][j] == 0:\n",
    "                return (i + 1) * 10 + j + 1\n",
    "\n",
    "\n",
    "def imprime_jogo(\n",
    "    matriz: typing.List[typing.List[int]]\n",
    ") -> None:\n",
    "    \"\"\"\n",
    "    Imprime o estado atual do tabuleiro\n",
    "    \n",
    "    :param matriz: matriz com os elementos do jogo\n",
    "    \"\"\"\n",
    "    for i in range(4):\n",
    "        print(\"+------+------+------+------+\")\n",
    "        for j in range(4):\n",
    "            print(\"+  %02d \" % matriz[i][j], end=\" \")\n",
    "        print(\"+\")\n",
    "    print(\"+------+------+------+------+\")\n",
    "\n",
    "\n",
    "def troca_elemento(\n",
    "    pos1: int, \n",
    "    pos2: int, \n",
    "    matriz: typing.List[typing.List[int]]\n",
    ") -> None:\n",
    "    \"\"\"\n",
    "    Dada uma matriz (listas de listas) de tamanho 4x4 troque os\n",
    "    elementos contidos na posição 1 com o elemento da posição 2,\n",
    "    na qual os elementos são representados por um número inteiro\n",
    "    cujo valor correponde a linha e coluna do elemento.\n",
    "    \n",
    "    Por exemplo pos1 = 11 -> elemento da primeira linha e primeira coluna\n",
    "    \n",
    "    Assim, se pos1 = 11, pos2 = 12 e\n",
    "    matriz =\n",
    "        1  2  3  4\n",
    "        5  6  7  8\n",
    "        9 10 11 12\n",
    "    \n",
    "    Queremos obter\n",
    "        2  1  3  4\n",
    "        5  6  7  8\n",
    "        9 10 11 12\n",
    "    \n",
    "    As mudanças da matriz devem ser feitas dentro da função, sem necessidade\n",
    "    de retornar uma nova matriz\n",
    "    \n",
    "    :param pos1: número inteiro da posição 1\n",
    "    :param pos2: número inteiro da posição 2\n",
    "    :param matriz: matriz de elementos\n",
    "    \"\"\"\n",
    "    pass\n",
    "\n",
    "\n",
    "def verifica_jogada(pos: int, zero_pos: int) -> bool:\n",
    "    \"\"\"\n",
    "    Verifca se a jogada selecionada é valida\n",
    "    \n",
    "    :param pos: posição do elemento a ser trocado\n",
    "    :param zero_pos: posição do elemento 0\n",
    "    :return: True se a jogada é válida\n",
    "    \"\"\"\n",
    "    pass\n",
    "\n",
    "    \n",
    "def verifica_se_venceu(matriz: typing.List[typing.List[int]]) -> bool:\n",
    "    \"\"\"\n",
    "    Verifica se o jogador venceu o jogo\n",
    "    \n",
    "    :param matriz: matriz com os elementos do jogo\n",
    "    :return: True se o jogador venceu\n",
    "    \"\"\"\n",
    "    pass\n",
    "\n",
    "    \n",
    "def main() -> None:\n",
    "    \"\"\"\n",
    "    Função principal do jogo\n",
    "    \"\"\"\n",
    "    # inicializa o jogo\n",
    "    jogo = gera_matriz()\n",
    "    zero_pos = acha_pos_zero(jogo)\n",
    "    jogando = True\n",
    "    venceu = False\n",
    "\n",
    "    # cria o loop principal do jogo\n",
    "    while jogando:\n",
    "        # imprime o estado do jogo\n",
    "        clear_output(wait=True)\n",
    "        time.sleep(0.3)\n",
    "        imprime_jogo(jogo)\n",
    "        time.sleep(0.3)\n",
    "        \n",
    "        # pede a posição até obter uma posição válida\n",
    "        pos = int(input(\"Digite a posição do elemento que você deseja trocar: \"))\n",
    "        while not verifica_jogada(pos, zero_pos):\n",
    "            print(\"Entrada inválida. Digite novamente\")\n",
    "            pos = int(input(\"Digite a posição do elemento que você deseja trocar: \"))\n",
    "        \n",
    "        # executa a troca de elementos\n",
    "        troca_elemento(pos, zero_pos, jogo)\n",
    "        zero_pos = pos\n",
    "        \n",
    "        # verifica se o usuário venceu o jogo\n",
    "        venceu = verifica_se_venceu(jogo)\n",
    "        jogando = not venceu\n",
    "    \n",
    "    # imprime o resultado do jogo\n",
    "    if venceu:\n",
    "        print(\"Parabens, você venceu!!!\")\n",
    "    else:\n",
    "        print(\"Obrigado por jogar.\")\n",
    "        \n",
    "main()"
   ]
  },
  {
   "cell_type": "code",
   "execution_count": null,
   "metadata": {
    "ExecuteTime": {
     "end_time": "2021-09-07T14:53:20.466438Z",
     "start_time": "2021-09-07T14:46:09.912774Z"
    },
    "cellView": "form",
    "id": "-T3YnFi7EsSv",
    "solution2": "hidden"
   },
   "outputs": [],
   "source": [
    "#@title Resposta\n",
    "import random\n",
    "import typing\n",
    "import time\n",
    "from IPython.display import clear_output\n",
    "\n",
    "\n",
    "def gera_matriz() -> typing.List[typing.List[int]]:\n",
    "    \"\"\"\n",
    "    Gera uma matriz 4x4 com elementos em posições aleatórias\n",
    "    entre 0 e 15\n",
    "    \n",
    "    :return: matriz 4x4 com valores entre 0 e 15\n",
    "    \"\"\"\n",
    "    matriz = list()\n",
    "    lista = list(range(16))\n",
    "    for j in range(4):\n",
    "        linha = []\n",
    "        for i in range(4):\n",
    "            x = random.choice(lista)\n",
    "            linha.append(x)\n",
    "            lista.remove(x)\n",
    "        matriz.append(linha)\n",
    "    return matriz\n",
    "        \n",
    "\n",
    "def acha_pos_zero(matriz: typing.List[typing.List[int]]) -> int:\n",
    "    \"\"\"\n",
    "    Função que procura e devolve a posição do zero da matriz (espaço vazio)\n",
    "    \n",
    "    :param matriz: matriz com os elementos do jogo\n",
    "    :return: posição do elemento 0\n",
    "    \"\"\"\n",
    "    for i in range(len(matriz)):\n",
    "        for j in range(len(matriz[0])):\n",
    "            if matriz[i][j] == 0:\n",
    "                return (i + 1) * 10 + j + 1\n",
    "\n",
    "\n",
    "def imprime_jogo(\n",
    "    matriz: typing.List[typing.List[int]]\n",
    ") -> None:\n",
    "    \"\"\"\n",
    "    Imprime o estado atual do tabuleiro\n",
    "    \n",
    "    :param matriz: matriz com os elementos do jogo\n",
    "    \"\"\"\n",
    "    for i in range(4):\n",
    "        print(\"+------+------+------+------+\")\n",
    "        for j in range(4):\n",
    "            print(\"+  %02d \" % matriz[i][j], end=\" \")\n",
    "        print(\"+\")\n",
    "    print(\"+------+------+------+------+\")\n",
    "\n",
    "\n",
    "def troca_elemento(\n",
    "    pos1: int, \n",
    "    pos2: int, \n",
    "    matriz: typing.List[typing.List[int]]\n",
    ") -> None:\n",
    "    \"\"\"\n",
    "    Dada uma matriz (listas de listas) de tamanho 4x4 troque os\n",
    "    elementos contidos na posição 1 com o elemento da posição 2,\n",
    "    na qual os elementos são representados por um número inteiro\n",
    "    cujo valor correponde a linha e coluna do elemento.\n",
    "    \n",
    "    Por exemplo pos1 = 11 -> elemento da primeira linha e primeira coluna\n",
    "    \n",
    "    Assim, se pos1 = 11, pos2 = 12 e\n",
    "    matriz =\n",
    "        1  2  3  4\n",
    "        5  6  7  8\n",
    "        9 10 11 12\n",
    "    \n",
    "    Queremos obter\n",
    "        2  1  3  4\n",
    "        5  6  7  8\n",
    "        9 10 11 12\n",
    "    \n",
    "    As mudanças da matriz devem ser feitas dentro da função, sem necessidade\n",
    "    de retornar uma nova matriz\n",
    "    \n",
    "    :param pos1: número inteiro da posição 1\n",
    "    :param pos2: número inteiro da posição 2\n",
    "    :param matriz: matriz de elementos\n",
    "    \"\"\"\n",
    "    elemento1 = matriz[pos1 // 10 - 1][pos1 % 10 -1]\n",
    "    elemento2 = matriz[pos2 // 10 - 1][pos2 % 10-1]\n",
    "    matriz[pos1 // 10-1][pos1 % 10 - 1] = elemento2\n",
    "    matriz[pos2 // 10-1][pos2 % 10 - 1] = elemento1\n",
    "\n",
    "\n",
    "def verifica_jogada(pos: int, zero_pos: int) -> bool:\n",
    "    \"\"\"\n",
    "    Verifca se a jogada selecionada é valida\n",
    "    \n",
    "    :param pos: posição do elemento a ser trocado\n",
    "    :param zero_pos: posição do elemento 0\n",
    "    :return: True se a jogada é válida\n",
    "    \"\"\"\n",
    "    linha = pos // 10\n",
    "    coluna = pos % 10\n",
    "\n",
    "    linha_zero = zero_pos // 10\n",
    "    coluna_zero = zero_pos % 10\n",
    "\n",
    "    if linha < 1 or linha > 4 or coluna < 1 or coluna > 4:\n",
    "        return False\n",
    "    else:\n",
    "        return (\n",
    "            (linha == linha_zero -1 and coluna == coluna_zero) \n",
    "            or (linha == linha_zero and (coluna == coluna_zero-1 or coluna == coluna_zero+1)) \n",
    "            or (linha == linha_zero+1 and coluna == coluna_zero)\n",
    "        )\n",
    "\n",
    "    \n",
    "def verifica_se_venceu(matriz: typing.List[typing.List[int]]) -> bool:\n",
    "    \"\"\"\n",
    "    Verifica se o jogador venceu o jogo\n",
    "    \n",
    "    :param matriz: matriz com os elementos do jogo\n",
    "    :return: True se o jogador venceu\n",
    "    \"\"\"\n",
    "    em_linha = list()\n",
    "    for l in matriz:\n",
    "        em_linha += l\n",
    "    return em_linha == sorted(em_linha)\n",
    "\n",
    "    \n",
    "def main() -> None:\n",
    "    \"\"\"\n",
    "    Função principal do jogo\n",
    "    \"\"\"\n",
    "    # inicializa o jogo\n",
    "    jogo = gera_matriz()\n",
    "    zero_pos = acha_pos_zero(jogo)\n",
    "    jogando = True\n",
    "    venceu = False\n",
    "\n",
    "    # cria o loop principal do jogo\n",
    "    while jogando:\n",
    "        # imprime o estado do jogo\n",
    "        clear_output(wait=True)\n",
    "        time.sleep(0.3)\n",
    "        imprime_jogo(jogo)\n",
    "        time.sleep(0.3)\n",
    "        \n",
    "        # pede a posição até obter uma posição válida\n",
    "        pos = int(input(\"Digite a posição do elemento que você deseja trocar: \"))\n",
    "        while not verifica_jogada(pos, zero_pos):\n",
    "            print(\"Entrada inválida. Digite novamente\")\n",
    "            pos = int(input(\"Digite a posição do elemento que você deseja trocar: \"))\n",
    "        \n",
    "        # executa a troca de elementos\n",
    "        troca_elemento(pos, zero_pos, jogo)\n",
    "        zero_pos = pos\n",
    "        \n",
    "        # verifica se o usuário venceu o jogo\n",
    "        venceu = verifica_se_venceu(jogo)\n",
    "        jogando = not venceu\n",
    "    \n",
    "    # imprime o resultado do jogo\n",
    "    if venceu:\n",
    "        print(\"Parabens, você venceu!!!\")\n",
    "    else:\n",
    "        print(\"Obrigado por jogar.\")\n",
    "        \n",
    "main()"
   ]
  },
  {
   "cell_type": "markdown",
   "metadata": {
    "id": "uK_CrsR1EsSv"
   },
   "source": [
    "---"
   ]
  },
  {
   "cell_type": "markdown",
   "metadata": {
    "id": "wqg5wjWcEsSv"
   },
   "source": [
    "## Leitura de Dados "
   ]
  },
  {
   "cell_type": "markdown",
   "metadata": {
    "id": "YIALCjYrQ7pt"
   },
   "source": [
    "---"
   ]
  },
  {
   "cell_type": "markdown",
   "metadata": {
    "id": "ujpz-u46Q7HN"
   },
   "source": [
    "**NOTA**"
   ]
  },
  {
   "cell_type": "markdown",
   "metadata": {
    "id": "hBLsMRDXRCGM"
   },
   "source": [
    "Se você estiver executando este notebook a partir do google colab, seria necessário que você ajustasse o caminho para os diferentes arquivos. Entretanto, para faciliar a vida, iremos baixar os dados na pasta temporária do colab executando a célula abaixo."
   ]
  },
  {
   "cell_type": "code",
   "execution_count": null,
   "metadata": {
    "ExecuteTime": {
     "end_time": "2022-01-17T00:39:54.743506Z",
     "start_time": "2022-01-17T00:39:52.836253Z"
    },
    "id": "tWOTqgZXRFCv"
   },
   "outputs": [],
   "source": [
    "import urllib.request\n",
    "urllib.request.urlretrieve(\"https://drive.google.com/uc?id=1SQ6GksfmYdgRn7Bku46XxBFG-aovSu0M&export=download\", \"usuarios.txt\")\n",
    "urllib.request.urlretrieve(\"https://drive.google.com/uc?id=1SQISXgA98wU_v1oRws57lvMhms2e2rDY&export=download\", \"palavras.txt\")"
   ]
  },
  {
   "cell_type": "markdown",
   "metadata": {
    "id": "Bq0WnqlxREzw"
   },
   "source": [
    "Para ver o conteúdo da sua pasta execute o comando abaixo em uma nova célula"
   ]
  },
  {
   "cell_type": "code",
   "execution_count": null,
   "metadata": {
    "ExecuteTime": {
     "end_time": "2022-01-17T00:40:09.004192Z",
     "start_time": "2022-01-17T00:40:08.980862Z"
    },
    "id": "FStOq9nFREis"
   },
   "outputs": [],
   "source": [
    "!ls \".\""
   ]
  },
  {
   "cell_type": "markdown",
   "metadata": {
    "id": "jhyKkxzSQ6yt"
   },
   "source": [
    "---"
   ]
  },
  {
   "cell_type": "markdown",
   "metadata": {
    "id": "lOTNo1aCEsSw"
   },
   "source": [
    "A função open() devolve um objeto arquivo, e é frequentemente usada com dois argumentos: open(nome_do_arquivo, modo)."
   ]
  },
  {
   "cell_type": "code",
   "execution_count": null,
   "metadata": {},
   "outputs": [],
   "source": []
  },
  {
   "cell_type": "markdown",
   "metadata": {
    "id": "3h-t9dSiEsSw"
   },
   "source": [
    "O primeiro argumento é uma string contendo o nome/caminho do arquivo. O segundo argumento é outra string, contendo alguns caracteres que descrevem o modo como o arquivo será usado. modo pode ser 'r' quando o arquivo será apenas lido, 'w' para escrever (se o arquivo já existir seu conteúdo prévio será apagado), e 'a' para abrir o arquivo para adição; qualquer escrita será adicionada ao final do arquivo. A opção 'r+' abre o arquivo tanto para leitura como para escrita. O argumento modo é opcional, em caso de omissão será assumido 'r'.\n",
    "\n",
    "Normalmente, arquivos são abertos em modo texto, ou seja, você lê e grava strings, de e para o arquivo, numa codificação específica. Se a codificação não for especificada, o padrão é dependente da plataforma/sistema operacional (consulte open()). Incluir 'b' ao modo abre o arquivo em modo binário: os dados são lidos e escritos na forma de bytes. Esse modo deve ser usado para todos os arquivos que não contenham texto.\n",
    "\n",
    "Em modo texto, o padrão durante a leitura é converter terminadores de linha específicos da plataforma (\\n no Unix, \\r\\n no Windows) para apenas \\n. Ao escrever no modo de texto, o padrão é converter as ocorrências de \\n de volta para os finais de linha específicos da plataforma. Essa modificação de bastidores nos dados do arquivo é adequada para arquivos de texto, mas corromperá dados binários, como arquivos JPEG ou EXE. Tenha muito cuidado para só usar o modo binário, ao ler e gravar esses arquivos.\n",
    "\n",
    "É uma boa prática usar a palavra-chave with ao lidar com arquivos. A vantagem é que o arquivo é fechado corretamente após o término de sua utilização, mesmo que uma exceção seja levantada em algum momento. Usar with também é muito mais curto que escrever seu bloco equivalente try-finally:"
   ]
  },
  {
   "cell_type": "code",
   "execution_count": null,
   "metadata": {},
   "outputs": [],
   "source": []
  },
  {
   "cell_type": "markdown",
   "metadata": {
    "id": "Nk41nwR1EsSw"
   },
   "source": [
    "Se você não está usando a palavra reservada with, então você deveria chamar f.close() para fechar o arquivo e imediatamente liberar qualquer recurso do sistema usado por ele.\n",
    "\n",
    "    Aviso Chamar f.write() sem usar a palavra reservada with ou chamar``f.close()`` pode resultar nos argumentos de f.write() não serem completamente escritos no disco, mesmo se o programa for encerrado com êxito.\n",
    "\n",
    "Depois que um arquivo é fechado, seja por uma instrução with ou chamando f.close(), as tentativas de usar o arquivo falharão automaticamente."
   ]
  },
  {
   "cell_type": "code",
   "execution_count": null,
   "metadata": {},
   "outputs": [],
   "source": []
  },
  {
   "cell_type": "markdown",
   "metadata": {
    "id": "Q6gpJSNbEsSw"
   },
   "source": [
    "Para simplificar, o resto dos exemplos nesta seção assumem que um objeto arquivo chamado f já foi criado.\n",
    "\n",
    "Para ler o conteúdo de um arquivo, chame f.read(tamanho), que lê um punhado de dados devolvendo-os como uma string (em modo texto) ou bytes (em modo binário). tamanho é um argumento numérico opcional. Quando tamanho é omitido ou negativo, todo o conteúdo do arquivo é lido e devolvido; se o arquivo é duas vezes maior que memória da máquina, o problema é seu. Caso contrário, no máximo tamanho caracteres (em modo texto) ou tamanho bytes (em modo binário) são lidos e devolvidos. Se o fim do arquivo for atingido, f.read() devolve uma string vazia ('')."
   ]
  },
  {
   "cell_type": "code",
   "execution_count": null,
   "metadata": {},
   "outputs": [],
   "source": []
  },
  {
   "cell_type": "markdown",
   "metadata": {
    "id": "b86hR077EsSw"
   },
   "source": [
    "O método f.readline() lê uma única linha do arquivo; o caractere de quebra de linha (\\n) é mantido ao final da string, e só é omitido na última linha do arquivo, se o arquivo não terminar com uma quebra de linha. Isso elimina a ambiguidade do valor retornado; se f.readline() retorna uma string vazia, o fim do arquivo foi atingido. Linhas em branco são representadas por um '\\n' – uma string contendo apenas o caractere terminador de linha."
   ]
  },
  {
   "cell_type": "code",
   "execution_count": null,
   "metadata": {},
   "outputs": [],
   "source": []
  },
  {
   "cell_type": "markdown",
   "metadata": {
    "id": "bUFwSEVSEsSw"
   },
   "source": [
    "Uma maneira alternativa de ler linhas do arquivo é iterar diretamente pelo objeto arquivo. É eficiente, rápido e resulta em código mais simples:"
   ]
  },
  {
   "cell_type": "code",
   "execution_count": null,
   "metadata": {},
   "outputs": [],
   "source": []
  },
  {
   "cell_type": "markdown",
   "metadata": {
    "id": "jmwXIBHiEsSw"
   },
   "source": [
    "Se desejar ler todas as linhas de um arquivo em uma lista, pode-se usar list(f) ou f.readlines().\n",
    "\n",
    "f.write(string) escreve o conteúdo de string para o arquivo, retornando o número de caracteres escritos."
   ]
  },
  {
   "cell_type": "code",
   "execution_count": null,
   "metadata": {},
   "outputs": [],
   "source": []
  },
  {
   "cell_type": "markdown",
   "metadata": {
    "id": "vm4wfYTQEsSw"
   },
   "source": [
    "Outros tipos de objetos precisam ser convertidos – seja para uma string (em modo texto) ou para bytes (em modo binário) – antes de escrevê-los:"
   ]
  },
  {
   "cell_type": "code",
   "execution_count": null,
   "metadata": {},
   "outputs": [],
   "source": []
  },
  {
   "cell_type": "markdown",
   "metadata": {
    "id": "91GSaOC3EsSx"
   },
   "source": [
    "f.tell() retorna um inteiro dando a posição atual do objeto arquivo, no arquivo representado, como número de bytes desde o início do arquivo, no modo binário, e um número ininteligível, quando no modo de texto.\n",
    "\n",
    "Para mudar a posição, use f.seek(offset, de_onde). A nova posição é computada pela soma do deslocamento offset a um ponto de referência especificado pelo argumento de-onde. Se o valor de de_onde é 0,a referência é o início do arquivo, 1 refere-se à posição atual, e 2 refere-se ao fim do arquivo. Este argumento pode ser omitido e o valor padrão é 0, usando o início do arquivo como referência."
   ]
  },
  {
   "cell_type": "code",
   "execution_count": null,
   "metadata": {},
   "outputs": [],
   "source": []
  },
  {
   "cell_type": "markdown",
   "metadata": {
    "id": "AXTyc-z-EsSx"
   },
   "source": [
    "---"
   ]
  },
  {
   "cell_type": "markdown",
   "metadata": {
    "id": "1Xj3ZyYsEsSx"
   },
   "source": [
    "**Exercício 13**"
   ]
  },
  {
   "cell_type": "markdown",
   "metadata": {
    "id": "Uw0JznOjEsSx"
   },
   "source": [
    "A ACME Inc., uma empresa de 500 funcionários, está tendo problemas de espaço em disco no seu servidor de arquivos. Para tentar resolver este problema, o Administrador de Rede precisa saber qual o espaço ocupado pelos usuários, e\n",
    "identificar os usuários com maior espaço ocupado. Através de um programa, baixado da Internet, ele conseguiu gerar o seguinte arquivo, chamado\n",
    "\n",
    "\"usuarios.txt\":\n",
    "\n",
    "    alexandre       456123789\n",
    "    anderson        1245698456\n",
    "    antonio         123456456\n",
    "    carlos          91257581\n",
    "    cesar           987458\n",
    "    rosemary        789456125\n",
    "\n",
    "Neste arquivo, o nome do usuário possui 15 caracteres. A partir deste arquivo, você deve criar um programa que gere um relatório, chamado \"relatório.txt\", no seguinte formato:\n",
    "\n",
    "    ACME Inc.               Uso do espaço em disco pelos usuários\n",
    "    ------------------------------------------------------------------------\n",
    "    Nr.  Usuário        Espaço utilizado     % do uso\n",
    "\n",
    "    1    alexandre       434,99 MB             16,85%\n",
    "    2    anderson       1187,99 MB             46,02%\n",
    "    3    antonio         117,73 MB              4,56%\n",
    "    4    carlos           87,03 MB              3,37%\n",
    "    5    cesar             0,94 MB              0,04%\n",
    "    6    rosemary        752,88 MB             29,16%\n",
    "\n",
    "Espaço total ocupado: 2581,57 MB\n",
    "Espaço médio ocupado: 430,26 MB\n",
    "\n",
    "O arquivo de entrada deve ser lido uma única vez, e os dados armazenados em memória, caso sejam necessários, de forma a agilizar a execução do programa."
   ]
  },
  {
   "cell_type": "code",
   "execution_count": null,
   "metadata": {
    "id": "wgVVjb4NEsSx",
    "solution2": "hidden",
    "solution2_first": true
   },
   "outputs": [],
   "source": []
  },
  {
   "cell_type": "code",
   "execution_count": null,
   "metadata": {
    "ExecuteTime": {
     "end_time": "2021-09-07T22:54:33.095152Z",
     "start_time": "2021-09-07T22:54:33.077200Z"
    },
    "cellView": "form",
    "id": "MuOnlEeNEsSx",
    "solution2": "hidden"
   },
   "outputs": [],
   "source": [
    "#@title Resposta\n",
    "usuarios = dict()\n",
    "\n",
    "# abre o arquivo com os usuários\n",
    "with open(\"usuarios.txt\", \"r\") as arquivo:      \n",
    "    # começa a percorrer o condeúdo da linha\n",
    "    for linha in arquivo:\n",
    "        # obtém o usuário\n",
    "        usuario = linha[:15].strip()\n",
    "        \n",
    "        # obtém o espaço utilizado\n",
    "        espaco = int(linha[15:].strip())\n",
    "\n",
    "        # adiciona ao dicionário \n",
    "        usuarios[usuario] = espaco\n",
    "\n",
    "# calcula o espaço total ocupado\n",
    "espaco_total = sum(list(usuarios.values()))\n",
    "\n",
    "# realiza a impressão dos resultados\n",
    "print(\n",
    "\"\"\"\n",
    "ACME Inc.               Uso do espaço em disco pelos usuários\n",
    "------------------------------------------------------------------------\n",
    "Nr.  Usuário        Espaço utilizado     % do uso\n",
    "\"\"\"\n",
    ")\n",
    "\n",
    "# percorre os usuários\n",
    "n = 1\n",
    "for u, e in usuarios.items():\n",
    "    # adiciona o número do usuário\n",
    "    output = f\"{n}\".ljust(5)\n",
    "    \n",
    "    # adiciona o nome do usuário\n",
    "    output += f\"{u}\".ljust(15)\n",
    "    \n",
    "    # adiciona o espaço ocupado\n",
    "    ocup = (\"%.2f\" % (e / (1024 ** 2))).rjust(8).replace(\".\", \",\")\n",
    "    ocup += \" MB\"\n",
    "    output += ocup.ljust(21)\n",
    "    \n",
    "    # adiciona o % do disco ocupado\n",
    "    output += (\"%.2f%%\" % (100 * e / espaco_total)).rjust(8).replace(\".\", \",\")\n",
    "    \n",
    "    print(output)\n",
    "    n += 1"
   ]
  },
  {
   "cell_type": "markdown",
   "metadata": {
    "id": "HdIezrcAEsSx"
   },
   "source": [
    "---"
   ]
  },
  {
   "cell_type": "markdown",
   "metadata": {
    "id": "7jkRoFclEsSx"
   },
   "source": [
    "## Projeto Final "
   ]
  },
  {
   "cell_type": "markdown",
   "metadata": {
    "id": "KlfqSZ6zEsSx"
   },
   "source": [
    "Como parte de seu projeto final, vamos gerar as funções de um jogo de forca.\n",
    "\n",
    "Utilize a estrutura abaixo e preencha as funções sem definição para fazer o jogo funcionar adequadamente.\n",
    "\n",
    "Como parte do loop do jogo:\n",
    "1. Carregue o arquivo palavras.txt para obter a lista de palavras possíveis\n",
    "1. Sorteie uma palavra aleatória da lista acima\n",
    "1. Imprima o estado da forca atual com os _ _ _ embaixo da forca com as letras a serem chutadas\n",
    "1. Peça para o usuário chutar uma letra\n",
    "1. Se a letra estiver correta substitua os _ onde ela aparece\n",
    "1. Se estiver errada, imprima embaixo da forca as letras erradas e atualize o boneco\n",
    "1. Caso o usuário perca, informe o número de chutes corretos e errados e a palavra correta\n",
    "1. Caso o usuário ganhe, informe uma mensagem de sucesso\n",
    "1. Ao final pergunte se o usuário quer jogar novamente\n",
    "\n",
    "Lembre-se que a mesma letra não pode ser chutada novamente, e que não se pode colocar caracteres especiais ou com acento"
   ]
  },
  {
   "cell_type": "code",
   "execution_count": null,
   "metadata": {
    "id": "k-JOKIE7EsSx",
    "solution2": "hidden",
    "solution2_first": true
   },
   "outputs": [],
   "source": [
    "import random\n",
    "import typing\n",
    "import time\n",
    "from IPython.display import clear_output\n",
    "\n",
    "\n",
    "FORCAIMG = [\n",
    "    \"\"\"\n",
    "\n",
    "      +---+\n",
    "      |   |\n",
    "          |\n",
    "          |\n",
    "          |\n",
    "          |\n",
    "    =========\"\"\",\n",
    "    \"\"\"\n",
    "\n",
    "      +---+\n",
    "      |   |\n",
    "      O   |\n",
    "          |\n",
    "          |\n",
    "          |\n",
    "    =========\"\"\",\n",
    "    \"\"\"\n",
    "\n",
    "      +---+\n",
    "      |   |\n",
    "      O   |\n",
    "      |   |\n",
    "          |\n",
    "          |\n",
    "    =========\"\"\",\n",
    "    \"\"\"\n",
    "\n",
    "      +---+\n",
    "      |   |\n",
    "      O   |\n",
    "     /|   |\n",
    "          |\n",
    "          |\n",
    "    =========\"\"\",\n",
    "    \"\"\"\n",
    "\n",
    "      +---+\n",
    "      |   |\n",
    "      O   |\n",
    "     /|\\  |\n",
    "          |\n",
    "          |\n",
    "    =========\"\"\",\n",
    "    \"\"\"\n",
    "\n",
    "      +---+\n",
    "      |   |\n",
    "      O   |\n",
    "     /|\\  |\n",
    "     /    |\n",
    "          |\n",
    "    =========\"\"\",\n",
    "    \"\"\"\n",
    "\n",
    "      +---+\n",
    "      |   |\n",
    "      O   |\n",
    "     /|\\  |\n",
    "     / \\  |\n",
    "          |\n",
    "    =========\"\"\",\n",
    "]\n",
    "\n",
    "\n",
    "def main():\n",
    "    \"\"\"\n",
    "    Função Principal do programa\n",
    "    \"\"\"\n",
    "    pass\n",
    "\n",
    "\n",
    "def le_palavras() -> typing.List[str]:\n",
    "    \"\"\"\n",
    "    Le arquivo com palavras que podem ser utilizadas\n",
    "    como parte do jogo\n",
    "    \"\"\"\n",
    "    pass\n",
    "\n",
    "\n",
    "def gera_palavra_aleatoria(palavras: str) -> typing.List[str]:\n",
    "    \"\"\"\n",
    "    Função que retorna uma string a partir da\n",
    "    lista de palavras\n",
    "\n",
    "    :param palavras: lista com palavras que podem ser sorteadas\n",
    "    :return: palavra secreta do jogo\n",
    "    \"\"\"\n",
    "    pass\n",
    "\n",
    "\n",
    "def imprime_com_espacos(palavra: str) -> None:\n",
    "    \"\"\"\n",
    "    Recebe uma string palavra ou lista e imprime essa com\n",
    "    espaço entre suas letras ou strings\n",
    "\n",
    "    :param palavra: palavra secreta do jogo\n",
    "    \"\"\"\n",
    "    pass\n",
    "\n",
    "\n",
    "def imprime_jogo(\n",
    "    letras_erradas: typing.List[str],\n",
    "    letras_acertadas: typing.List[str],\n",
    "    palavra_secreta: str,\n",
    ") -> None:\n",
    "    \"\"\"\n",
    "    Feito a partir da variável global que contem as imagens\n",
    "    do jogo em ASCII art, e támbem as letras chutadas de\n",
    "    maneira correta e as letras erradas e a palavra secreta\n",
    "\n",
    "    :param letras_erradas: lista de letras chutadas incorretamente\n",
    "    :param letras_acertadas: lista de letras chutadas corretamente\n",
    "    :param palavra_secreta: palavra secreta do jogo\n",
    "    \"\"\"\n",
    "    pass\n",
    "\n",
    "\n",
    "def recebe_palpite(palpites_feitos: typing.List[str]) -> str:\n",
    "    \"\"\"\n",
    "    Função feita para garantir que o usuário coloque uma\n",
    "    entrada válida, ou seja, que seja uma única letra\n",
    "    que ele ainda não tenha chutado\n",
    "\n",
    "    :param palpites_feitos: lista de letras chutadas anteriormente\n",
    "    :return: nova letra chutada\n",
    "    \"\"\"\n",
    "    pass\n",
    "\n",
    "\n",
    "def jogar_novamente() -> bool:\n",
    "    \"\"\"\n",
    "    Função que pede para o usuário decidir se ele quer\n",
    "    jogar novamente e retorna um booleano representando\n",
    "    a resposta\n",
    "\n",
    "    :return: True se o jogador informou que deseja jogar novamente\n",
    "    \"\"\"\n",
    "    return input(\"Você quer jogar novamente? (sim ou nao)\\n\").upper().startswith(\"S\")\n",
    "\n",
    "\n",
    "def verifica_se_ganhou(\n",
    "    palavra_secreta: str, letras_acertadas: typing.List[str]\n",
    ") -> bool:\n",
    "    \"\"\"\n",
    "    Função que verifica se o usuário acertou todas as\n",
    "    letras da palavra secreta\n",
    "\n",
    "    :param palavra_secreta: palavra secreta do jogo\n",
    "    :param letras_acertadas: lista de letras chutadas corretamente\n",
    "    :return: booleano informando se o jogador ganhou o jogo\n",
    "    \"\"\"\n",
    "    pass\n",
    "\n",
    "\n",
    "main()"
   ]
  },
  {
   "cell_type": "code",
   "execution_count": null,
   "metadata": {
    "ExecuteTime": {
     "end_time": "2021-09-07T23:14:17.685320Z",
     "start_time": "2021-09-07T23:13:30.789570Z"
    },
    "cellView": "form",
    "id": "txalWC9tEsSy",
    "solution2": "hidden"
   },
   "outputs": [],
   "source": [
    "#@title Resposta\n",
    "import random\n",
    "import typing\n",
    "import time\n",
    "from IPython.display import clear_output\n",
    "\n",
    "\n",
    "FORCAIMG = [\n",
    "    \"\"\"\n",
    "\n",
    "      +---+\n",
    "      |   |\n",
    "          |\n",
    "          |\n",
    "          |\n",
    "          |\n",
    "    =========\"\"\",\n",
    "    \"\"\"\n",
    "\n",
    "      +---+\n",
    "      |   |\n",
    "      O   |\n",
    "          |\n",
    "          |\n",
    "          |\n",
    "    =========\"\"\",\n",
    "    \"\"\"\n",
    "\n",
    "      +---+\n",
    "      |   |\n",
    "      O   |\n",
    "      |   |\n",
    "          |\n",
    "          |\n",
    "    =========\"\"\",\n",
    "    \"\"\"\n",
    "\n",
    "      +---+\n",
    "      |   |\n",
    "      O   |\n",
    "     /|   |\n",
    "          |\n",
    "          |\n",
    "    =========\"\"\",\n",
    "    \"\"\"\n",
    "\n",
    "      +---+\n",
    "      |   |\n",
    "      O   |\n",
    "     /|\\  |\n",
    "          |\n",
    "          |\n",
    "    =========\"\"\",\n",
    "    \"\"\"\n",
    "\n",
    "      +---+\n",
    "      |   |\n",
    "      O   |\n",
    "     /|\\  |\n",
    "     /    |\n",
    "          |\n",
    "    =========\"\"\",\n",
    "    \"\"\"\n",
    "\n",
    "      +---+\n",
    "      |   |\n",
    "      O   |\n",
    "     /|\\  |\n",
    "     / \\  |\n",
    "          |\n",
    "    =========\"\"\",\n",
    "]\n",
    "\n",
    "\n",
    "def main():\n",
    "    \"\"\"\n",
    "    Função Principal do programa\n",
    "    \"\"\"\n",
    "    global FORCAIMG\n",
    "\n",
    "    letras_erradas = list()\n",
    "    letras_acertadas = list()\n",
    "\n",
    "    # lista as palavras disponíveis para o jogo\n",
    "    palavras = le_palavras()\n",
    "\n",
    "    # seleciona uma palavra aleatória\n",
    "    palavra_secreta = gera_palavra_aleatoria(palavras).upper()\n",
    "\n",
    "    # cria o loop do jogo\n",
    "    jogando = True\n",
    "    while jogando:\n",
    "        # imprime o estado do jogo atual\n",
    "        clear_output(wait=True)\n",
    "        time.sleep(0.3)\n",
    "        imprime_jogo(letras_erradas, letras_acertadas, palavra_secreta)\n",
    "        time.sleep(0.3)\n",
    "\n",
    "        # recebe um palpite do jogador\n",
    "        palpite = recebe_palpite(letras_erradas + letras_acertadas)\n",
    "\n",
    "        # adiciona o palpite ao dicionário adequado\n",
    "        if palpite in palavra_secreta:\n",
    "            letras_acertadas.append(palpite)\n",
    "        else:\n",
    "            letras_erradas.append(palpite)\n",
    "\n",
    "        # verifica se o usuário ganhou o jogo\n",
    "        if verifica_se_ganhou(palavra_secreta, letras_acertadas):\n",
    "            clear_output(wait=True)\n",
    "            time.sleep(0.3)\n",
    "            print(\"Exato! A palavra secreta é \" + palavra_secreta + \"! Você ganhou!!\")\n",
    "            jogando = False\n",
    "\n",
    "        # verifica se o usuário perdeu o jogo\n",
    "        elif len(letras_erradas) == len(FORCAIMG) - 1:\n",
    "            clear_output(wait=True)\n",
    "            time.sleep(0.3)\n",
    "            print(\"Você excedeu o seu limite de palpites!\")\n",
    "            print(\n",
    "                \"Depois de \"\n",
    "                + str(len(letras_erradas))\n",
    "                + \" letras erradas e \"\n",
    "                + str(len(letras_acertadas)),\n",
    "                end=\" \",\n",
    "            )\n",
    "            print(\"palpites corretos, a palavra era \" + palavra_secreta + \".\")\n",
    "\n",
    "            jogando = False\n",
    "\n",
    "        # se o usuário terminar o jogo\n",
    "        if not jogando:\n",
    "            # pede para jogar novamente\n",
    "            time.sleep(0.3)\n",
    "            if jogar_novamente():\n",
    "                letras_erradas = list()\n",
    "                letras_acertadas = list()\n",
    "                jogando = True\n",
    "                palavra_secreta = gera_palavra_aleatoria(palavras).upper()\n",
    "\n",
    "\n",
    "def le_palavras() -> typing.List[str]:\n",
    "    \"\"\"\n",
    "    Le arquivo com palavras que podem ser utilizadas\n",
    "    como parte do jogo\n",
    "    \"\"\"\n",
    "    with open(\"palavras.txt\") as f:\n",
    "        return f.readlines()\n",
    "\n",
    "\n",
    "def gera_palavra_aleatoria(palavras: str) -> typing.List[str]:\n",
    "    \"\"\"\n",
    "    Função que retorna uma string a partir da\n",
    "    lista de palavras\n",
    "\n",
    "    :param palavras: lista com palavras que podem ser sorteadas\n",
    "    :return: palavra secreta do jogo\n",
    "    \"\"\"\n",
    "    return random.choice(palavras).replace(\"\\n\", \"\")\n",
    "\n",
    "\n",
    "def imprime_com_espacos(palavra: str) -> None:\n",
    "    \"\"\"\n",
    "    Recebe uma string palavra ou lista e imprime essa com\n",
    "    espaço entre suas letras ou strings\n",
    "\n",
    "    :param palavra: palavra secreta do jogo\n",
    "    \"\"\"\n",
    "    for letra in palavra:\n",
    "        print(letra, end=\" \")\n",
    "    print()\n",
    "\n",
    "\n",
    "def imprime_jogo(\n",
    "    letras_erradas: typing.List[str],\n",
    "    letras_acertadas: typing.List[str],\n",
    "    palavra_secreta: str,\n",
    ") -> None:\n",
    "    \"\"\"\n",
    "    Feito a partir da variável global que contem as imagens\n",
    "    do jogo em ASCII art, e támbem as letras chutadas de\n",
    "    maneira correta e as letras erradas e a palavra secreta\n",
    "\n",
    "    :param letras_erradas: lista de letras chutadas incorretamente\n",
    "    :param letras_acertadas: lista de letras chutadas corretamente\n",
    "    :param palavra_secreta: palavra secreta do jogo\n",
    "    \"\"\"\n",
    "    global FORCAIMG\n",
    "    print(FORCAIMG[len(letras_erradas)] + \"\\n\")\n",
    "\n",
    "    print(\"Letras Erradas:\", end=\" \")\n",
    "    imprime_com_espacos(letras_erradas)\n",
    "\n",
    "    vazio = \"_\" * len(palavra_secreta)\n",
    "    for i in range(len(palavra_secreta)):\n",
    "        if palavra_secreta[i] in letras_acertadas:\n",
    "            vazio = vazio[:i] + palavra_secreta[i] + vazio[i + 1 :]\n",
    "\n",
    "    imprime_com_espacos(vazio)\n",
    "\n",
    "\n",
    "def recebe_palpite(palpites_feitos: typing.List[str]) -> str:\n",
    "    \"\"\"\n",
    "    Função feita para garantir que o usuário coloque uma\n",
    "    entrada válida, ou seja, que seja uma única letra\n",
    "    que ele ainda não tenha chutado\n",
    "\n",
    "    :param palpites_feitos: lista de letras chutadas anteriormente\n",
    "    :return: nova letra chutada\n",
    "    \"\"\"\n",
    "    while True:\n",
    "        palpite = input(\"Advinhe uma letra.\\n\").upper()\n",
    "\n",
    "        if len(palpite) != 1:\n",
    "            print(\"Coloque uma única letra.\")\n",
    "        elif palpite in palpites_feitos:\n",
    "            print(\"Você já chutou esta letra. Escolha novamente.\")\n",
    "        elif not \"A\" <= palpite <= \"Z\":\n",
    "            print(\"Por favor escolha apenas letras.\")\n",
    "        else:\n",
    "            return palpite\n",
    "\n",
    "\n",
    "def jogar_novamente() -> bool:\n",
    "    \"\"\"\n",
    "    Função que pede para o usuário decidir se ele quer\n",
    "    jogar novamente e retorna um booleano representando\n",
    "    a resposta\n",
    "\n",
    "    :return: True se o jogador informou que deseja jogar novamente\n",
    "    \"\"\"\n",
    "    return input(\"Você quer jogar novamente? (sim ou nao)\\n\").upper().startswith(\"S\")\n",
    "\n",
    "\n",
    "def verifica_se_ganhou(\n",
    "    palavra_secreta: str, letras_acertadas: typing.List[str]\n",
    ") -> bool:\n",
    "    \"\"\"\n",
    "    Função que verifica se o usuário acertou todas as\n",
    "    letras da palavra secreta\n",
    "\n",
    "    :param palavra_secreta: palavra secreta do jogo\n",
    "    :param letras_acertadas: lista de letras chutadas corretamente\n",
    "    :return: booleano informando se o jogador ganhou o jogo\n",
    "    \"\"\"\n",
    "    return set(list(palavra_secreta)) == set(letras_acertadas)\n",
    "\n",
    "\n",
    "main()"
   ]
  },
  {
   "cell_type": "markdown",
   "metadata": {
    "id": "M0gVvvtYEsSy"
   },
   "source": [
    "---"
   ]
  }
 ],
 "metadata": {
  "colab": {
   "collapsed_sections": [],
   "name": "Python Básico (Code Along).ipynb",
   "provenance": [],
   "toc_visible": true
  },
  "hide_input": false,
  "kernelspec": {
   "display_name": "Python 3 (ipykernel)",
   "language": "python",
   "name": "python3"
  },
  "language_info": {
   "codemirror_mode": {
    "name": "ipython",
    "version": 3
   },
   "file_extension": ".py",
   "mimetype": "text/x-python",
   "name": "python",
   "nbconvert_exporter": "python",
   "pygments_lexer": "ipython3",
   "version": "3.11.6"
  },
  "toc": {
   "base_numbering": 1,
   "nav_menu": {},
   "number_sections": true,
   "sideBar": true,
   "skip_h1_title": true,
   "title_cell": "Table of Contents",
   "title_sidebar": "Contents",
   "toc_cell": false,
   "toc_position": {
    "height": "calc(100% - 180px)",
    "left": "10px",
    "top": "150px",
    "width": "304.475px"
   },
   "toc_section_display": true,
   "toc_window_display": true
  },
  "varInspector": {
   "cols": {
    "lenName": 16,
    "lenType": 16,
    "lenVar": 40
   },
   "kernels_config": {
    "python": {
     "delete_cmd_postfix": "",
     "delete_cmd_prefix": "del ",
     "library": "var_list.py",
     "varRefreshCmd": "print(var_dic_list())"
    },
    "r": {
     "delete_cmd_postfix": ") ",
     "delete_cmd_prefix": "rm(",
     "library": "var_list.r",
     "varRefreshCmd": "cat(var_dic_list()) "
    }
   },
   "position": {
    "height": "260.85px",
    "left": "1166px",
    "right": "20px",
    "top": "120px",
    "width": "350px"
   },
   "types_to_exclude": [
    "module",
    "function",
    "builtin_function_or_method",
    "instance",
    "_Feature"
   ],
   "window_display": false
  }
 },
 "nbformat": 4,
 "nbformat_minor": 1
}
